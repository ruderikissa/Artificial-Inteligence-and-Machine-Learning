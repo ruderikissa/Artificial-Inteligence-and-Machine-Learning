{
 "cells": [
  {
   "cell_type": "markdown",
   "id": "961b3744",
   "metadata": {
    "id": "961b3744"
   },
   "source": [
    "<h2><center><font color='red'><b> Proyecto Final<h2>\n",
    "<center><font size=7 color='Navy'><b>NLP: Clasificación de tweets <center><h1>"
   ]
  },
  {
   "cell_type": "markdown",
   "id": "b6bf4faf",
   "metadata": {
    "id": "b6bf4faf"
   },
   "source": [
    "\n",
    "\n",
    "<font size=6 color='steelblue'><center><b> Exploratory Data Analysis\n",
    "    "
   ]
  },
  {
   "cell_type": "code",
   "execution_count": 1,
   "id": "4c8b7d78",
   "metadata": {
    "id": "4c8b7d78"
   },
   "outputs": [],
   "source": [
    "from pylab import *\n",
    "import pandas as pd\n",
    "import seaborn as sns\n",
    "import re"
   ]
  },
  {
   "cell_type": "markdown",
   "id": "782b9d1e",
   "metadata": {},
   "source": [
    "<font size=5 color='navy'><b> Empecemos viendo el tamaño y las características de ambos conjuntos de datos.\n",
    "    "
   ]
  },
  {
   "cell_type": "code",
   "execution_count": 2,
   "id": "89eb1a22",
   "metadata": {
    "id": "89eb1a22"
   },
   "outputs": [],
   "source": [
    "train_df = pd.read_csv('Corona_NLP_train.csv', encoding='latin1')\n",
    "test_df = pd.read_csv('Corona_NLP_test.csv', encoding='latin1')"
   ]
  },
  {
   "cell_type": "code",
   "execution_count": 3,
   "id": "0ba49087",
   "metadata": {
    "colab": {
     "base_uri": "https://localhost:8080/",
     "height": 224
    },
    "id": "0ba49087",
    "outputId": "fdd4c3fc-a232-4976-e4a8-02625620cc05"
   },
   "outputs": [
    {
     "name": "stdout",
     "output_type": "stream",
     "text": [
      "Shape of Train DataFrame:  (41157, 6)\n"
     ]
    },
    {
     "data": {
      "text/html": [
       "<div>\n",
       "<style scoped>\n",
       "    .dataframe tbody tr th:only-of-type {\n",
       "        vertical-align: middle;\n",
       "    }\n",
       "\n",
       "    .dataframe tbody tr th {\n",
       "        vertical-align: top;\n",
       "    }\n",
       "\n",
       "    .dataframe thead th {\n",
       "        text-align: right;\n",
       "    }\n",
       "</style>\n",
       "<table border=\"1\" class=\"dataframe\">\n",
       "  <thead>\n",
       "    <tr style=\"text-align: right;\">\n",
       "      <th></th>\n",
       "      <th>UserName</th>\n",
       "      <th>ScreenName</th>\n",
       "      <th>Location</th>\n",
       "      <th>TweetAt</th>\n",
       "      <th>OriginalTweet</th>\n",
       "      <th>Sentiment</th>\n",
       "    </tr>\n",
       "  </thead>\n",
       "  <tbody>\n",
       "    <tr>\n",
       "      <th>0</th>\n",
       "      <td>3799</td>\n",
       "      <td>48751</td>\n",
       "      <td>London</td>\n",
       "      <td>16-03-2020</td>\n",
       "      <td>@MeNyrbie @Phil_Gahan @Chrisitv https://t.co/i...</td>\n",
       "      <td>Neutral</td>\n",
       "    </tr>\n",
       "    <tr>\n",
       "      <th>1</th>\n",
       "      <td>3800</td>\n",
       "      <td>48752</td>\n",
       "      <td>UK</td>\n",
       "      <td>16-03-2020</td>\n",
       "      <td>advice Talk to your neighbours family to excha...</td>\n",
       "      <td>Positive</td>\n",
       "    </tr>\n",
       "    <tr>\n",
       "      <th>2</th>\n",
       "      <td>3801</td>\n",
       "      <td>48753</td>\n",
       "      <td>Vagabonds</td>\n",
       "      <td>16-03-2020</td>\n",
       "      <td>Coronavirus Australia: Woolworths to give elde...</td>\n",
       "      <td>Positive</td>\n",
       "    </tr>\n",
       "    <tr>\n",
       "      <th>3</th>\n",
       "      <td>3802</td>\n",
       "      <td>48754</td>\n",
       "      <td>NaN</td>\n",
       "      <td>16-03-2020</td>\n",
       "      <td>My food stock is not the only one which is emp...</td>\n",
       "      <td>Positive</td>\n",
       "    </tr>\n",
       "    <tr>\n",
       "      <th>4</th>\n",
       "      <td>3803</td>\n",
       "      <td>48755</td>\n",
       "      <td>NaN</td>\n",
       "      <td>16-03-2020</td>\n",
       "      <td>Me, ready to go at supermarket during the #COV...</td>\n",
       "      <td>Extremely Negative</td>\n",
       "    </tr>\n",
       "  </tbody>\n",
       "</table>\n",
       "</div>"
      ],
      "text/plain": [
       "   UserName  ScreenName   Location     TweetAt  \\\n",
       "0      3799       48751     London  16-03-2020   \n",
       "1      3800       48752         UK  16-03-2020   \n",
       "2      3801       48753  Vagabonds  16-03-2020   \n",
       "3      3802       48754        NaN  16-03-2020   \n",
       "4      3803       48755        NaN  16-03-2020   \n",
       "\n",
       "                                       OriginalTweet           Sentiment  \n",
       "0  @MeNyrbie @Phil_Gahan @Chrisitv https://t.co/i...             Neutral  \n",
       "1  advice Talk to your neighbours family to excha...            Positive  \n",
       "2  Coronavirus Australia: Woolworths to give elde...            Positive  \n",
       "3  My food stock is not the only one which is emp...            Positive  \n",
       "4  Me, ready to go at supermarket during the #COV...  Extremely Negative  "
      ]
     },
     "execution_count": 3,
     "metadata": {},
     "output_type": "execute_result"
    }
   ],
   "source": [
    "print(\"Shape of Train DataFrame: \", train_df.shape)\n",
    "train_df.head()"
   ]
  },
  {
   "cell_type": "code",
   "execution_count": 4,
   "id": "7bd0394d",
   "metadata": {
    "colab": {
     "base_uri": "https://localhost:8080/",
     "height": 224
    },
    "id": "7bd0394d",
    "outputId": "eb63477b-ae52-446c-c2c6-8fe2e5484e70"
   },
   "outputs": [
    {
     "name": "stdout",
     "output_type": "stream",
     "text": [
      "Shape of Test DataFrame:  (3798, 6)\n"
     ]
    },
    {
     "data": {
      "text/html": [
       "<div>\n",
       "<style scoped>\n",
       "    .dataframe tbody tr th:only-of-type {\n",
       "        vertical-align: middle;\n",
       "    }\n",
       "\n",
       "    .dataframe tbody tr th {\n",
       "        vertical-align: top;\n",
       "    }\n",
       "\n",
       "    .dataframe thead th {\n",
       "        text-align: right;\n",
       "    }\n",
       "</style>\n",
       "<table border=\"1\" class=\"dataframe\">\n",
       "  <thead>\n",
       "    <tr style=\"text-align: right;\">\n",
       "      <th></th>\n",
       "      <th>UserName</th>\n",
       "      <th>ScreenName</th>\n",
       "      <th>Location</th>\n",
       "      <th>TweetAt</th>\n",
       "      <th>OriginalTweet</th>\n",
       "      <th>Sentiment</th>\n",
       "    </tr>\n",
       "  </thead>\n",
       "  <tbody>\n",
       "    <tr>\n",
       "      <th>0</th>\n",
       "      <td>1</td>\n",
       "      <td>44953</td>\n",
       "      <td>NYC</td>\n",
       "      <td>02-03-2020</td>\n",
       "      <td>TRENDING: New Yorkers encounter empty supermar...</td>\n",
       "      <td>Extremely Negative</td>\n",
       "    </tr>\n",
       "    <tr>\n",
       "      <th>1</th>\n",
       "      <td>2</td>\n",
       "      <td>44954</td>\n",
       "      <td>Seattle, WA</td>\n",
       "      <td>02-03-2020</td>\n",
       "      <td>When I couldn't find hand sanitizer at Fred Me...</td>\n",
       "      <td>Positive</td>\n",
       "    </tr>\n",
       "    <tr>\n",
       "      <th>2</th>\n",
       "      <td>3</td>\n",
       "      <td>44955</td>\n",
       "      <td>NaN</td>\n",
       "      <td>02-03-2020</td>\n",
       "      <td>Find out how you can protect yourself and love...</td>\n",
       "      <td>Extremely Positive</td>\n",
       "    </tr>\n",
       "    <tr>\n",
       "      <th>3</th>\n",
       "      <td>4</td>\n",
       "      <td>44956</td>\n",
       "      <td>Chicagoland</td>\n",
       "      <td>02-03-2020</td>\n",
       "      <td>#Panic buying hits #NewYork City as anxious sh...</td>\n",
       "      <td>Negative</td>\n",
       "    </tr>\n",
       "    <tr>\n",
       "      <th>4</th>\n",
       "      <td>5</td>\n",
       "      <td>44957</td>\n",
       "      <td>Melbourne, Victoria</td>\n",
       "      <td>03-03-2020</td>\n",
       "      <td>#toiletpaper #dunnypaper #coronavirus #coronav...</td>\n",
       "      <td>Neutral</td>\n",
       "    </tr>\n",
       "  </tbody>\n",
       "</table>\n",
       "</div>"
      ],
      "text/plain": [
       "   UserName  ScreenName             Location     TweetAt  \\\n",
       "0         1       44953                  NYC  02-03-2020   \n",
       "1         2       44954          Seattle, WA  02-03-2020   \n",
       "2         3       44955                  NaN  02-03-2020   \n",
       "3         4       44956          Chicagoland  02-03-2020   \n",
       "4         5       44957  Melbourne, Victoria  03-03-2020   \n",
       "\n",
       "                                       OriginalTweet           Sentiment  \n",
       "0  TRENDING: New Yorkers encounter empty supermar...  Extremely Negative  \n",
       "1  When I couldn't find hand sanitizer at Fred Me...            Positive  \n",
       "2  Find out how you can protect yourself and love...  Extremely Positive  \n",
       "3  #Panic buying hits #NewYork City as anxious sh...            Negative  \n",
       "4  #toiletpaper #dunnypaper #coronavirus #coronav...             Neutral  "
      ]
     },
     "execution_count": 4,
     "metadata": {},
     "output_type": "execute_result"
    }
   ],
   "source": [
    "print(\"Shape of Test DataFrame: \", test_df.shape)\n",
    "test_df.head()"
   ]
  },
  {
   "cell_type": "code",
   "execution_count": 5,
   "id": "6707c984",
   "metadata": {
    "colab": {
     "base_uri": "https://localhost:8080/"
    },
    "id": "6707c984",
    "outputId": "e48ca3d8-3c75-40c0-d0c9-b220d11ae17c"
   },
   "outputs": [
    {
     "name": "stdout",
     "output_type": "stream",
     "text": [
      "<class 'pandas.core.frame.DataFrame'>\n",
      "RangeIndex: 41157 entries, 0 to 41156\n",
      "Data columns (total 6 columns):\n",
      " #   Column         Non-Null Count  Dtype \n",
      "---  ------         --------------  ----- \n",
      " 0   UserName       41157 non-null  int64 \n",
      " 1   ScreenName     41157 non-null  int64 \n",
      " 2   Location       32567 non-null  object\n",
      " 3   TweetAt        41157 non-null  object\n",
      " 4   OriginalTweet  41157 non-null  object\n",
      " 5   Sentiment      41157 non-null  object\n",
      "dtypes: int64(2), object(4)\n",
      "memory usage: 1.9+ MB\n"
     ]
    }
   ],
   "source": [
    "train_df.info()\n"
   ]
  },
  {
   "cell_type": "code",
   "execution_count": 6,
   "id": "d8920b59",
   "metadata": {
    "colab": {
     "base_uri": "https://localhost:8080/"
    },
    "id": "d8920b59",
    "outputId": "86c8978d-81a4-4f94-9692-20f5b6072a25",
    "scrolled": true
   },
   "outputs": [
    {
     "name": "stdout",
     "output_type": "stream",
     "text": [
      "<class 'pandas.core.frame.DataFrame'>\n",
      "RangeIndex: 3798 entries, 0 to 3797\n",
      "Data columns (total 6 columns):\n",
      " #   Column         Non-Null Count  Dtype \n",
      "---  ------         --------------  ----- \n",
      " 0   UserName       3798 non-null   int64 \n",
      " 1   ScreenName     3798 non-null   int64 \n",
      " 2   Location       2964 non-null   object\n",
      " 3   TweetAt        3798 non-null   object\n",
      " 4   OriginalTweet  3798 non-null   object\n",
      " 5   Sentiment      3798 non-null   object\n",
      "dtypes: int64(2), object(4)\n",
      "memory usage: 178.2+ KB\n"
     ]
    }
   ],
   "source": [
    "test_df.info()"
   ]
  },
  {
   "cell_type": "markdown",
   "id": "6fa3d0e0",
   "metadata": {},
   "source": [
    "<font size=5 color='navy'><b> Vemos que el 'Dataset' se compone de seis columnas, las primeras dos de carácter numérico 'int' y las demás son del tipo 'object'. Tanto 'UserName' como 'ScreenName' son seriales numéricos que codifican los usuarios que emitieron el 'tweet'. 'Location' corresponde a la ubicación desde donde fue emitido, 'TweetAt' corresponde a la fecha de emisión, 'OriginalTweet' al contenidio propiamente del texto y 'Sentiment' es una categoría agregada manualmente que clasifica los 'tweets' en cinco categorías: positivo, negativo, neutro, extremadamente negativo y extremadamente positivo. "
   ]
  },
  {
   "cell_type": "code",
   "execution_count": 7,
   "id": "b300e5e0",
   "metadata": {
    "colab": {
     "base_uri": "https://localhost:8080/"
    },
    "id": "b300e5e0",
    "outputId": "3483b88d-e8b5-4969-fb91-37e736255978"
   },
   "outputs": [
    {
     "name": "stdout",
     "output_type": "stream",
     "text": [
      "Sentiment values:  ['Neutral' 'Positive' 'Extremely Negative' 'Negative' 'Extremely Positive']\n"
     ]
    }
   ],
   "source": [
    "print('Sentiment values: ', train_df.Sentiment.unique())"
   ]
  },
  {
   "cell_type": "markdown",
   "id": "c70f11f6",
   "metadata": {
    "id": "c70f11f6"
   },
   "source": [
    "<font size=5 color='navy'><b> Por simplicidad de análisis, eliminamos las columnas 'UserName' y 'ScreenName', y reducimos el dominio de Sentimientos a tres valores: 'Positive', 'Negative' y 'Neutral'."
   ]
  },
  {
   "cell_type": "code",
   "execution_count": 8,
   "id": "83f514c8",
   "metadata": {
    "colab": {
     "base_uri": "https://localhost:8080/",
     "height": 206
    },
    "id": "83f514c8",
    "outputId": "e4216c8f-33a4-4030-dda3-1485e7db2c7a"
   },
   "outputs": [
    {
     "data": {
      "text/html": [
       "<div>\n",
       "<style scoped>\n",
       "    .dataframe tbody tr th:only-of-type {\n",
       "        vertical-align: middle;\n",
       "    }\n",
       "\n",
       "    .dataframe tbody tr th {\n",
       "        vertical-align: top;\n",
       "    }\n",
       "\n",
       "    .dataframe thead th {\n",
       "        text-align: right;\n",
       "    }\n",
       "</style>\n",
       "<table border=\"1\" class=\"dataframe\">\n",
       "  <thead>\n",
       "    <tr style=\"text-align: right;\">\n",
       "      <th></th>\n",
       "      <th>Location</th>\n",
       "      <th>TweetAt</th>\n",
       "      <th>OriginalTweet</th>\n",
       "      <th>Sentiment</th>\n",
       "    </tr>\n",
       "  </thead>\n",
       "  <tbody>\n",
       "    <tr>\n",
       "      <th>0</th>\n",
       "      <td>London</td>\n",
       "      <td>16-03-2020</td>\n",
       "      <td>@MeNyrbie @Phil_Gahan @Chrisitv https://t.co/i...</td>\n",
       "      <td>Neutral</td>\n",
       "    </tr>\n",
       "    <tr>\n",
       "      <th>1</th>\n",
       "      <td>UK</td>\n",
       "      <td>16-03-2020</td>\n",
       "      <td>advice Talk to your neighbours family to excha...</td>\n",
       "      <td>Positive</td>\n",
       "    </tr>\n",
       "    <tr>\n",
       "      <th>2</th>\n",
       "      <td>Vagabonds</td>\n",
       "      <td>16-03-2020</td>\n",
       "      <td>Coronavirus Australia: Woolworths to give elde...</td>\n",
       "      <td>Positive</td>\n",
       "    </tr>\n",
       "    <tr>\n",
       "      <th>3</th>\n",
       "      <td>NaN</td>\n",
       "      <td>16-03-2020</td>\n",
       "      <td>My food stock is not the only one which is emp...</td>\n",
       "      <td>Positive</td>\n",
       "    </tr>\n",
       "    <tr>\n",
       "      <th>4</th>\n",
       "      <td>NaN</td>\n",
       "      <td>16-03-2020</td>\n",
       "      <td>Me, ready to go at supermarket during the #COV...</td>\n",
       "      <td>Negative</td>\n",
       "    </tr>\n",
       "  </tbody>\n",
       "</table>\n",
       "</div>"
      ],
      "text/plain": [
       "    Location     TweetAt                                      OriginalTweet  \\\n",
       "0     London  16-03-2020  @MeNyrbie @Phil_Gahan @Chrisitv https://t.co/i...   \n",
       "1         UK  16-03-2020  advice Talk to your neighbours family to excha...   \n",
       "2  Vagabonds  16-03-2020  Coronavirus Australia: Woolworths to give elde...   \n",
       "3        NaN  16-03-2020  My food stock is not the only one which is emp...   \n",
       "4        NaN  16-03-2020  Me, ready to go at supermarket during the #COV...   \n",
       "\n",
       "  Sentiment  \n",
       "0   Neutral  \n",
       "1  Positive  \n",
       "2  Positive  \n",
       "3  Positive  \n",
       "4  Negative  "
      ]
     },
     "execution_count": 8,
     "metadata": {},
     "output_type": "execute_result"
    }
   ],
   "source": [
    "# Reduce sentiments to 3 values\n",
    "sentiment_dic = {'Extremely Negative': 'Negative', 'Extremely Positive': 'Positive'}\n",
    "train_df['Sentiment'] = train_df['Sentiment'].map(lambda x: sentiment_dic[x] if x in sentiment_dic.keys() else x)\n",
    "test_df['Sentiment'] = test_df['Sentiment'].map(lambda x: sentiment_dic[x] if x in sentiment_dic.keys() else x)\n",
    "# Drop columns 'UserName' and 'ScreenName'\n",
    "train_df = train_df.drop(['UserName','ScreenName'], axis=1)\n",
    "test_df = test_df.drop(['UserName','ScreenName'], axis=1)\n",
    "train_df.head()"
   ]
  },
  {
   "cell_type": "markdown",
   "id": "59d2e3ca",
   "metadata": {
    "id": "59d2e3ca"
   },
   "source": [
    "<font size=5 color='navy'><b> Empezamos el análisis graficando la cantidad de 'tweets' por cada sentimiento para ambos conjuntos."
   ]
  },
  {
   "cell_type": "code",
   "execution_count": 9,
   "id": "7a3923d1",
   "metadata": {
    "colab": {
     "base_uri": "https://localhost:8080/",
     "height": 517
    },
    "id": "7a3923d1",
    "outputId": "9a909f16-7ce5-4c80-8ed6-a389f509f307"
   },
   "outputs": [
    {
     "data": {
      "image/png": "[encoded data removed]",
      "text/plain": [
       "<Figure size 1080x576 with 2 Axes>"
      ]
     },
     "metadata": {
      "needs_background": "light"
     },
     "output_type": "display_data"
    }
   ],
   "source": [
    "#Plot number of tweet per sentiment on both sets\n",
    "order=list(train_df.Sentiment.unique())\n",
    "colors = {order[0]:'blue', order[1]:'lime',order[2]:'red'}\n",
    "fig = plt.figure(figsize=(15,8))\n",
    "ax = fig.add_subplot(121)\n",
    "sns.countplot(data=train_df,x='Sentiment', order=order, palette=colors)\n",
    "plt.title('Train Data', fontsize=18)\n",
    "ax = fig.add_subplot(122)\n",
    "sns.countplot(data=test_df,x='Sentiment', order=order, palette=colors)\n",
    "plt.title('Test Data',fontsize=18)\n",
    "sns.despine() "
   ]
  },
  {
   "cell_type": "markdown",
   "id": "710aeb6a",
   "metadata": {
    "id": "710aeb6a"
   },
   "source": [
    "<font size=5 color='navy'><b> Notamos una proporción similar de 'tweets' respecto de los sentimientos en ambos conjuntos, lo cual es importante para no sesgar la red neuronal."
   ]
  },
  {
   "cell_type": "markdown",
   "id": "eaf7f0f1",
   "metadata": {
    "id": "eaf7f0f1"
   },
   "source": [
    "<font size=5 color='navy'><b> Luego, graficamos respecto del lugar desde donde se emitieron."
   ]
  },
  {
   "cell_type": "code",
   "execution_count": 9,
   "id": "58056721",
   "metadata": {
    "colab": {
     "base_uri": "https://localhost:8080/",
     "height": 625
    },
    "id": "58056721",
    "outputId": "0ce80382-cfd3-40a9-8f9b-81458c0f0b10"
   },
   "outputs": [
    {
     "data": {
      "image/png": "[encoded data removed]",
      "text/plain": [
       "<Figure size 1080x720 with 2 Axes>"
      ]
     },
     "metadata": {
      "needs_background": "light"
     },
     "output_type": "display_data"
    }
   ],
   "source": [
    "# DataFrame grouped by location and limited to 10 places \n",
    "loc_train_df = train_df.groupby('Location', as_index=False).count().sort_values('Sentiment', ascending=False).head(10)\n",
    "loc_test_df = test_df.groupby('Location', as_index=False).count().sort_values('Sentiment', ascending=False).head(10)\n",
    "\n",
    "#Plots from both data sets\n",
    "fig=plt.figure(figsize=(15,10))\n",
    "ax=fig.add_subplot(211)\n",
    "sns.barplot(data=loc_train_df,x='Location',y='Sentiment')\n",
    "plt.title('Train data', fontsize=18)\n",
    "plt.ylabel('Count')\n",
    "ax=fig.add_subplot(212)\n",
    "sns.barplot(data=loc_test_df,x='Location',y='Sentiment')\n",
    "plt.title('Test data', fontsize=18)\n",
    "plt.ylabel('Count')\n",
    "sns.despine()"
   ]
  },
  {
   "cell_type": "markdown",
   "id": "1a5a07d8",
   "metadata": {
    "id": "1a5a07d8"
   },
   "source": [
    "<font size=5 color='navy'><b> Comparamos las cantidad de 'tweets' respecto de la fecha de emisión."
   ]
  },
  {
   "cell_type": "code",
   "execution_count": 12,
   "id": "fcf53d66",
   "metadata": {
    "colab": {
     "base_uri": "https://localhost:8080/",
     "height": 1000
    },
    "id": "fcf53d66",
    "outputId": "7df68724-b3b9-4f30-913c-031dd1640805"
   },
   "outputs": [
    {
     "data": {
      "image/png": "[encoded data removed]",
      "text/plain": [
       "<Figure size 1080x1296 with 2 Axes>"
      ]
     },
     "metadata": {
      "needs_background": "light"
     },
     "output_type": "display_data"
    }
   ],
   "source": [
    "# Dataframe of tweets groped by date\n",
    "date_train_df=train_df.groupby(['TweetAt','Sentiment'], as_index=False).count()\n",
    "date_test_df=test_df.groupby(['TweetAt','Sentiment'], as_index=False).count()\n",
    "\n",
    "#Plots\n",
    "fig = plt.figure(figsize=(15,18))\n",
    "ax = fig.add_subplot(211)\n",
    "sns.barplot(data=date_train_df, x = 'TweetAt', y='OriginalTweet', hue = 'Sentiment' )\n",
    "plt.title('Train data', fontsize=18)\n",
    "plt.xticks(rotation=45)\n",
    "plt.ylabel('Count', fontsize=15)\n",
    "plt.xlabel('Date')\n",
    "\n",
    "ax = fig.add_subplot(212)\n",
    "sns.barplot(data=date_test_df, x = 'TweetAt', y='OriginalTweet', hue = 'Sentiment' )\n",
    "plt.title('Test data', fontsize=18)         \n",
    "plt.ylabel('Count', fontsize=15)\n",
    "plt.xlabel('Date')\n",
    "plt.xticks(rotation=45)\n",
    "sns.despine()"
   ]
  },
  {
   "cell_type": "markdown",
   "id": "30397849",
   "metadata": {
    "id": "30397849"
   },
   "source": [
    "<font size=5 color='navy'><b> Notamos que hay una desproporción en cuanto a la distribución de los 'tweets' en lo concerniente con la fecha, sin embargo esto no afecta el resultado de nuestra red neuronal."
   ]
  },
  {
   "cell_type": "markdown",
   "id": "f2cffe5e",
   "metadata": {
    "id": "f2cffe5e"
   },
   "source": [
    "<font size=5 color='navy'><b> Ahora, comparamos la longitud promedio de los 'tweets' por cada sentimiento."
   ]
  },
  {
   "cell_type": "code",
   "execution_count": 13,
   "id": "69d0dd5a",
   "metadata": {
    "id": "69d0dd5a"
   },
   "outputs": [
    {
     "data": {
      "text/html": [
       "<div>\n",
       "<style scoped>\n",
       "    .dataframe tbody tr th:only-of-type {\n",
       "        vertical-align: middle;\n",
       "    }\n",
       "\n",
       "    .dataframe tbody tr th {\n",
       "        vertical-align: top;\n",
       "    }\n",
       "\n",
       "    .dataframe thead th {\n",
       "        text-align: right;\n",
       "    }\n",
       "</style>\n",
       "<table border=\"1\" class=\"dataframe\">\n",
       "  <thead>\n",
       "    <tr style=\"text-align: right;\">\n",
       "      <th></th>\n",
       "      <th>Location</th>\n",
       "      <th>TweetAt</th>\n",
       "      <th>OriginalTweet</th>\n",
       "      <th>Sentiment</th>\n",
       "      <th>tweet_length</th>\n",
       "    </tr>\n",
       "  </thead>\n",
       "  <tbody>\n",
       "    <tr>\n",
       "      <th>0</th>\n",
       "      <td>London</td>\n",
       "      <td>16-03-2020</td>\n",
       "      <td>@MeNyrbie @Phil_Gahan @Chrisitv https://t.co/i...</td>\n",
       "      <td>Neutral</td>\n",
       "      <td>111</td>\n",
       "    </tr>\n",
       "    <tr>\n",
       "      <th>1</th>\n",
       "      <td>UK</td>\n",
       "      <td>16-03-2020</td>\n",
       "      <td>advice Talk to your neighbours family to excha...</td>\n",
       "      <td>Positive</td>\n",
       "      <td>237</td>\n",
       "    </tr>\n",
       "    <tr>\n",
       "      <th>2</th>\n",
       "      <td>Vagabonds</td>\n",
       "      <td>16-03-2020</td>\n",
       "      <td>Coronavirus Australia: Woolworths to give elde...</td>\n",
       "      <td>Positive</td>\n",
       "      <td>131</td>\n",
       "    </tr>\n",
       "    <tr>\n",
       "      <th>3</th>\n",
       "      <td>NaN</td>\n",
       "      <td>16-03-2020</td>\n",
       "      <td>My food stock is not the only one which is emp...</td>\n",
       "      <td>Positive</td>\n",
       "      <td>306</td>\n",
       "    </tr>\n",
       "    <tr>\n",
       "      <th>4</th>\n",
       "      <td>NaN</td>\n",
       "      <td>16-03-2020</td>\n",
       "      <td>Me, ready to go at supermarket during the #COV...</td>\n",
       "      <td>Negative</td>\n",
       "      <td>310</td>\n",
       "    </tr>\n",
       "  </tbody>\n",
       "</table>\n",
       "</div>"
      ],
      "text/plain": [
       "    Location     TweetAt                                      OriginalTweet  \\\n",
       "0     London  16-03-2020  @MeNyrbie @Phil_Gahan @Chrisitv https://t.co/i...   \n",
       "1         UK  16-03-2020  advice Talk to your neighbours family to excha...   \n",
       "2  Vagabonds  16-03-2020  Coronavirus Australia: Woolworths to give elde...   \n",
       "3        NaN  16-03-2020  My food stock is not the only one which is emp...   \n",
       "4        NaN  16-03-2020  Me, ready to go at supermarket during the #COV...   \n",
       "\n",
       "  Sentiment  tweet_length  \n",
       "0   Neutral           111  \n",
       "1  Positive           237  \n",
       "2  Positive           131  \n",
       "3  Positive           306  \n",
       "4  Negative           310  "
      ]
     },
     "execution_count": 13,
     "metadata": {},
     "output_type": "execute_result"
    }
   ],
   "source": [
    "# Employ the length function for each tweet and add the value as the 'tweet_length' column\n",
    "\n",
    "train_df['tweet_length'] = train_df['OriginalTweet'].apply(lambda x:len(x))\n",
    "test_df['tweet_length'] = test_df['OriginalTweet'].apply(lambda x:len(x))\n",
    "train_df.head()"
   ]
  },
  {
   "cell_type": "code",
   "execution_count": 14,
   "id": "2f7f8ef4",
   "metadata": {
    "colab": {
     "base_uri": "https://localhost:8080/",
     "height": 680
    },
    "id": "2f7f8ef4",
    "outputId": "409647b9-de1a-4b8d-df75-61f7e0a76442"
   },
   "outputs": [
    {
     "data": {
      "image/png": "[encoded data removed]",
      "text/plain": [
       "<Figure size 1008x792 with 2 Axes>"
      ]
     },
     "metadata": {
      "needs_background": "light"
     },
     "output_type": "display_data"
    }
   ],
   "source": [
    "#Graph the average tweet length inrelation to the sentiment\n",
    "fig = plt.figure(figsize=(14,11))\n",
    "ax = fig.add_subplot(211)\n",
    "sns.barplot(data = train_df, x='Sentiment', y='tweet_length', palette=colors, order=order)\n",
    "plt.title('Train data', fontsize=18)\n",
    "plt.ylabel('Character length')\n",
    "ax1 = fig.add_subplot(212)\n",
    "sns.barplot(data = test_df, x='Sentiment', y='tweet_length', palette=colors, order=order)\n",
    "plt.title('Test data', fontsize=18)\n",
    "plt.ylabel('Character length')\n",
    "sns.despine()"
   ]
  },
  {
   "cell_type": "markdown",
   "id": "b92921b7",
   "metadata": {
    "id": "b92921b7"
   },
   "source": [
    "<font size=5 color='navy'><b> Y luego la longitud de las palabras por sentimiento."
   ]
  },
  {
   "cell_type": "code",
   "execution_count": 15,
   "id": "5bc4f45e",
   "metadata": {
    "id": "5bc4f45e"
   },
   "outputs": [],
   "source": [
    "# Creat afunction that count the number of words and appended as the column 'WordCount' \n",
    "\n",
    "def word_count(tweet):\n",
    "    dummy_list = re.split(r\"[ @#]\", tweet)\n",
    "    count = len(dummy_list)\n",
    "    return count\n",
    "\n",
    "train_df['WordCount'] = train_df['OriginalTweet'].apply(word_count)\n",
    "test_df['WordCount'] = test_df['OriginalTweet'].apply(word_count)"
   ]
  },
  {
   "cell_type": "code",
   "execution_count": 16,
   "id": "9d74bd79",
   "metadata": {
    "colab": {
     "base_uri": "https://localhost:8080/",
     "height": 206
    },
    "id": "9d74bd79",
    "outputId": "2964d3b3-af0a-4f3a-c3d4-73bad9e142b9"
   },
   "outputs": [
    {
     "data": {
      "text/html": [
       "<div>\n",
       "<style scoped>\n",
       "    .dataframe tbody tr th:only-of-type {\n",
       "        vertical-align: middle;\n",
       "    }\n",
       "\n",
       "    .dataframe tbody tr th {\n",
       "        vertical-align: top;\n",
       "    }\n",
       "\n",
       "    .dataframe thead th {\n",
       "        text-align: right;\n",
       "    }\n",
       "</style>\n",
       "<table border=\"1\" class=\"dataframe\">\n",
       "  <thead>\n",
       "    <tr style=\"text-align: right;\">\n",
       "      <th></th>\n",
       "      <th>Location</th>\n",
       "      <th>TweetAt</th>\n",
       "      <th>OriginalTweet</th>\n",
       "      <th>Sentiment</th>\n",
       "      <th>tweet_length</th>\n",
       "      <th>WordCount</th>\n",
       "    </tr>\n",
       "  </thead>\n",
       "  <tbody>\n",
       "    <tr>\n",
       "      <th>0</th>\n",
       "      <td>London</td>\n",
       "      <td>16-03-2020</td>\n",
       "      <td>@MeNyrbie @Phil_Gahan @Chrisitv https://t.co/i...</td>\n",
       "      <td>Neutral</td>\n",
       "      <td>111</td>\n",
       "      <td>11</td>\n",
       "    </tr>\n",
       "    <tr>\n",
       "      <th>1</th>\n",
       "      <td>UK</td>\n",
       "      <td>16-03-2020</td>\n",
       "      <td>advice Talk to your neighbours family to excha...</td>\n",
       "      <td>Positive</td>\n",
       "      <td>237</td>\n",
       "      <td>38</td>\n",
       "    </tr>\n",
       "    <tr>\n",
       "      <th>2</th>\n",
       "      <td>Vagabonds</td>\n",
       "      <td>16-03-2020</td>\n",
       "      <td>Coronavirus Australia: Woolworths to give elde...</td>\n",
       "      <td>Positive</td>\n",
       "      <td>131</td>\n",
       "      <td>14</td>\n",
       "    </tr>\n",
       "    <tr>\n",
       "      <th>3</th>\n",
       "      <td>NaN</td>\n",
       "      <td>16-03-2020</td>\n",
       "      <td>My food stock is not the only one which is emp...</td>\n",
       "      <td>Positive</td>\n",
       "      <td>306</td>\n",
       "      <td>47</td>\n",
       "    </tr>\n",
       "    <tr>\n",
       "      <th>4</th>\n",
       "      <td>NaN</td>\n",
       "      <td>16-03-2020</td>\n",
       "      <td>Me, ready to go at supermarket during the #COV...</td>\n",
       "      <td>Negative</td>\n",
       "      <td>310</td>\n",
       "      <td>44</td>\n",
       "    </tr>\n",
       "  </tbody>\n",
       "</table>\n",
       "</div>"
      ],
      "text/plain": [
       "    Location     TweetAt                                      OriginalTweet  \\\n",
       "0     London  16-03-2020  @MeNyrbie @Phil_Gahan @Chrisitv https://t.co/i...   \n",
       "1         UK  16-03-2020  advice Talk to your neighbours family to excha...   \n",
       "2  Vagabonds  16-03-2020  Coronavirus Australia: Woolworths to give elde...   \n",
       "3        NaN  16-03-2020  My food stock is not the only one which is emp...   \n",
       "4        NaN  16-03-2020  Me, ready to go at supermarket during the #COV...   \n",
       "\n",
       "  Sentiment  tweet_length  WordCount  \n",
       "0   Neutral           111         11  \n",
       "1  Positive           237         38  \n",
       "2  Positive           131         14  \n",
       "3  Positive           306         47  \n",
       "4  Negative           310         44  "
      ]
     },
     "execution_count": 16,
     "metadata": {},
     "output_type": "execute_result"
    }
   ],
   "source": [
    "train_df.head()"
   ]
  },
  {
   "cell_type": "code",
   "execution_count": 17,
   "id": "727a8a01",
   "metadata": {
    "colab": {
     "base_uri": "https://localhost:8080/",
     "height": 206
    },
    "id": "727a8a01",
    "outputId": "8f2d366f-1b22-4d7b-f852-0ac3da52f329"
   },
   "outputs": [
    {
     "data": {
      "text/html": [
       "<div>\n",
       "<style scoped>\n",
       "    .dataframe tbody tr th:only-of-type {\n",
       "        vertical-align: middle;\n",
       "    }\n",
       "\n",
       "    .dataframe tbody tr th {\n",
       "        vertical-align: top;\n",
       "    }\n",
       "\n",
       "    .dataframe thead th {\n",
       "        text-align: right;\n",
       "    }\n",
       "</style>\n",
       "<table border=\"1\" class=\"dataframe\">\n",
       "  <thead>\n",
       "    <tr style=\"text-align: right;\">\n",
       "      <th></th>\n",
       "      <th>Location</th>\n",
       "      <th>TweetAt</th>\n",
       "      <th>OriginalTweet</th>\n",
       "      <th>Sentiment</th>\n",
       "      <th>tweet_length</th>\n",
       "      <th>WordCount</th>\n",
       "    </tr>\n",
       "  </thead>\n",
       "  <tbody>\n",
       "    <tr>\n",
       "      <th>0</th>\n",
       "      <td>NYC</td>\n",
       "      <td>02-03-2020</td>\n",
       "      <td>TRENDING: New Yorkers encounter empty supermar...</td>\n",
       "      <td>Negative</td>\n",
       "      <td>228</td>\n",
       "      <td>24</td>\n",
       "    </tr>\n",
       "    <tr>\n",
       "      <th>1</th>\n",
       "      <td>Seattle, WA</td>\n",
       "      <td>02-03-2020</td>\n",
       "      <td>When I couldn't find hand sanitizer at Fred Me...</td>\n",
       "      <td>Positive</td>\n",
       "      <td>193</td>\n",
       "      <td>33</td>\n",
       "    </tr>\n",
       "    <tr>\n",
       "      <th>2</th>\n",
       "      <td>NaN</td>\n",
       "      <td>02-03-2020</td>\n",
       "      <td>Find out how you can protect yourself and love...</td>\n",
       "      <td>Positive</td>\n",
       "      <td>73</td>\n",
       "      <td>14</td>\n",
       "    </tr>\n",
       "    <tr>\n",
       "      <th>3</th>\n",
       "      <td>Chicagoland</td>\n",
       "      <td>02-03-2020</td>\n",
       "      <td>#Panic buying hits #NewYork City as anxious sh...</td>\n",
       "      <td>Negative</td>\n",
       "      <td>318</td>\n",
       "      <td>46</td>\n",
       "    </tr>\n",
       "    <tr>\n",
       "      <th>4</th>\n",
       "      <td>Melbourne, Victoria</td>\n",
       "      <td>03-03-2020</td>\n",
       "      <td>#toiletpaper #dunnypaper #coronavirus #coronav...</td>\n",
       "      <td>Neutral</td>\n",
       "      <td>252</td>\n",
       "      <td>41</td>\n",
       "    </tr>\n",
       "  </tbody>\n",
       "</table>\n",
       "</div>"
      ],
      "text/plain": [
       "              Location     TweetAt  \\\n",
       "0                  NYC  02-03-2020   \n",
       "1          Seattle, WA  02-03-2020   \n",
       "2                  NaN  02-03-2020   \n",
       "3          Chicagoland  02-03-2020   \n",
       "4  Melbourne, Victoria  03-03-2020   \n",
       "\n",
       "                                       OriginalTweet Sentiment  tweet_length  \\\n",
       "0  TRENDING: New Yorkers encounter empty supermar...  Negative           228   \n",
       "1  When I couldn't find hand sanitizer at Fred Me...  Positive           193   \n",
       "2  Find out how you can protect yourself and love...  Positive            73   \n",
       "3  #Panic buying hits #NewYork City as anxious sh...  Negative           318   \n",
       "4  #toiletpaper #dunnypaper #coronavirus #coronav...   Neutral           252   \n",
       "\n",
       "   WordCount  \n",
       "0         24  \n",
       "1         33  \n",
       "2         14  \n",
       "3         46  \n",
       "4         41  "
      ]
     },
     "execution_count": 17,
     "metadata": {},
     "output_type": "execute_result"
    }
   ],
   "source": [
    "test_df.head()"
   ]
  },
  {
   "cell_type": "code",
   "execution_count": 18,
   "id": "361197bc",
   "metadata": {
    "id": "361197bc"
   },
   "outputs": [],
   "source": [
    "#Create a funtion that plots an histogram of the number of words with respect to the sentiment\n",
    "\n",
    "def word_count_hist(df):\n",
    "    fig =plt.figure(figsize=(17,5))\n",
    "    for i,sentiment in enumerate(train_df.Sentiment.unique()):\n",
    "        plot_df = df[df.Sentiment==sentiment]\n",
    "        ax = fig.add_subplot(1,5,i+1)\n",
    "        sns.histplot(plot_df,x='WordCount', color=list(colors.values())[i])\n",
    "        plt.title(sentiment)\n",
    "        plt.xlabel('Number of words')\n"
   ]
  },
  {
   "cell_type": "code",
   "execution_count": 23,
   "id": "9f56977a",
   "metadata": {
    "colab": {
     "base_uri": "https://localhost:8080/",
     "height": 367
    },
    "id": "9f56977a",
    "outputId": "d9ded1e4-7a3c-49d5-de23-b221efaef04c"
   },
   "outputs": [
    {
     "name": "stdout",
     "output_type": "stream",
     "text": [
      "Histograma de la cantidad de palabras por cada sentimiento del conjunto \"Train data\"\n"
     ]
    },
    {
     "data": {
      "image/png": "[encoded data removed]",
      "text/plain": [
       "<Figure size 1224x360 with 3 Axes>"
      ]
     },
     "metadata": {
      "needs_background": "light"
     },
     "output_type": "display_data"
    }
   ],
   "source": [
    "print('Histograma de la cantidad de palabras por cada sentimiento del conjunto \"Train data\"')\n",
    "word_count_hist(train_df)"
   ]
  },
  {
   "cell_type": "code",
   "execution_count": 24,
   "id": "55fb8703",
   "metadata": {
    "colab": {
     "base_uri": "https://localhost:8080/",
     "height": 367
    },
    "id": "55fb8703",
    "outputId": "2737966e-4dfe-45b3-837d-ce444799b6e8"
   },
   "outputs": [
    {
     "name": "stdout",
     "output_type": "stream",
     "text": [
      "Histograma de la cantidad de palabras por cada sentimiento del conjunto \"Test data\"\n"
     ]
    },
    {
     "data": {
      "image/png": "[encoded data removed]",
      "text/plain": [
       "<Figure size 1224x360 with 3 Axes>"
      ]
     },
     "metadata": {
      "needs_background": "light"
     },
     "output_type": "display_data"
    }
   ],
   "source": [
    "print('Histograma de la cantidad de palabras por cada sentimiento del conjunto \"Test data\"')\n",
    "word_count_hist(test_df)"
   ]
  },
  {
   "cell_type": "code",
   "execution_count": 25,
   "id": "ee40e23d",
   "metadata": {
    "id": "ee40e23d"
   },
   "outputs": [],
   "source": [
    "# Build a function that plots the tweet length regarding the sentiment\n",
    "def plot_tweet_length(df):\n",
    "    fig =plt.figure(figsize=(17,5))\n",
    "    for i,sentiment in enumerate(train_df.Sentiment.unique()):\n",
    "        plot_df = df[df.Sentiment==sentiment]\n",
    "        ax = fig.add_subplot(1,5,i+1)\n",
    "        sns.histplot(plot_df,x='tweet_length', color=list(colors.values())[i])\n",
    "        plt.title(sentiment)\n",
    "        plt.xlabel('Tweet length')"
   ]
  },
  {
   "cell_type": "code",
   "execution_count": 27,
   "id": "520a59af",
   "metadata": {
    "colab": {
     "base_uri": "https://localhost:8080/",
     "height": 350
    },
    "id": "520a59af",
    "outputId": "b1cb01af-194f-48a3-939c-b61b419809eb"
   },
   "outputs": [
    {
     "name": "stdout",
     "output_type": "stream",
     "text": [
      "Histograma de la longitud de los \"tweets\" por cada sentimiento del conjunto \"Train data\"\n"
     ]
    },
    {
     "data": {
      "image/png": "[encoded data removed]",
      "text/plain": [
       "<Figure size 1224x360 with 3 Axes>"
      ]
     },
     "metadata": {
      "needs_background": "light"
     },
     "output_type": "display_data"
    }
   ],
   "source": [
    "print('Histograma de la longitud de los \"tweets\" por cada sentimiento del conjunto \"Train data\"')\n",
    "plot_tweet_length(train_df)"
   ]
  },
  {
   "cell_type": "code",
   "execution_count": 28,
   "id": "eb10b529",
   "metadata": {
    "colab": {
     "base_uri": "https://localhost:8080/",
     "height": 350
    },
    "id": "eb10b529",
    "outputId": "a6016af1-c989-4dff-eb52-f2fbb328bcc2"
   },
   "outputs": [
    {
     "name": "stdout",
     "output_type": "stream",
     "text": [
      "Histograma de la longitud de los \"tweets\" por cada sentimiento del conjunto \"Test data\"\n"
     ]
    },
    {
     "data": {
      "image/png": "[encoded data removed]",
      "text/plain": [
       "<Figure size 1224x360 with 3 Axes>"
      ]
     },
     "metadata": {
      "needs_background": "light"
     },
     "output_type": "display_data"
    }
   ],
   "source": [
    "print('Histograma de la longitud de los \"tweets\" por cada sentimiento del conjunto \"Test data\"')\n",
    "plot_tweet_length(test_df)"
   ]
  },
  {
   "cell_type": "markdown",
   "id": "c420bbde",
   "metadata": {
    "id": "c420bbde"
   },
   "source": [
    "<font size=6 color='Steelblue'> <center><b> Data Cleaning and Preprocessing"
   ]
  },
  {
   "cell_type": "code",
   "execution_count": 29,
   "id": "4dfdad7d",
   "metadata": {
    "id": "4dfdad7d"
   },
   "outputs": [
    {
     "name": "stderr",
     "output_type": "stream",
     "text": [
      "2022-06-06 15:06:34.669845: W tensorflow/stream_executor/platform/default/dso_loader.cc:64] Could not load dynamic library 'libcudart.so.11.0'; dlerror: libcudart.so.11.0: cannot open shared object file: No such file or directory\n",
      "2022-06-06 15:06:34.669914: I tensorflow/stream_executor/cuda/cudart_stub.cc:29] Ignore above cudart dlerror if you do not have a GPU set up on your machine.\n"
     ]
    }
   ],
   "source": [
    "#!pip install nltk\n",
    "#import nltk\n",
    "#nltk.download('stopwords')\n",
    "from nltk.corpus import stopwords\n",
    "from wordcloud import WordCloud\n",
    "from string import punctuation\n",
    "from tensorflow.keras.preprocessing.text import Tokenizer\n",
    "from tensorflow.keras.preprocessing.sequence import pad_sequences\n",
    "from tensorflow import one_hot\n",
    "stopwords = stopwords.words('english')"
   ]
  },
  {
   "cell_type": "markdown",
   "id": "ff446217",
   "metadata": {
    "id": "ff446217"
   },
   "source": [
    "<font size=5 color='navy'><b> Ahora, para empezar con la limpieza de los datos, nos deshacemos de las columnas que no nos interesan."
   ]
  },
  {
   "cell_type": "code",
   "execution_count": 30,
   "id": "3f2bfaec",
   "metadata": {
    "colab": {
     "base_uri": "https://localhost:8080/",
     "height": 206
    },
    "id": "3f2bfaec",
    "outputId": "944c7e6a-bf71-40d1-cca8-1e3090657eaa"
   },
   "outputs": [
    {
     "data": {
      "text/html": [
       "<div>\n",
       "<style scoped>\n",
       "    .dataframe tbody tr th:only-of-type {\n",
       "        vertical-align: middle;\n",
       "    }\n",
       "\n",
       "    .dataframe tbody tr th {\n",
       "        vertical-align: top;\n",
       "    }\n",
       "\n",
       "    .dataframe thead th {\n",
       "        text-align: right;\n",
       "    }\n",
       "</style>\n",
       "<table border=\"1\" class=\"dataframe\">\n",
       "  <thead>\n",
       "    <tr style=\"text-align: right;\">\n",
       "      <th></th>\n",
       "      <th>OriginalTweet</th>\n",
       "      <th>Sentiment</th>\n",
       "    </tr>\n",
       "  </thead>\n",
       "  <tbody>\n",
       "    <tr>\n",
       "      <th>0</th>\n",
       "      <td>@MeNyrbie @Phil_Gahan @Chrisitv https://t.co/i...</td>\n",
       "      <td>Neutral</td>\n",
       "    </tr>\n",
       "    <tr>\n",
       "      <th>1</th>\n",
       "      <td>advice Talk to your neighbours family to excha...</td>\n",
       "      <td>Positive</td>\n",
       "    </tr>\n",
       "    <tr>\n",
       "      <th>2</th>\n",
       "      <td>Coronavirus Australia: Woolworths to give elde...</td>\n",
       "      <td>Positive</td>\n",
       "    </tr>\n",
       "    <tr>\n",
       "      <th>3</th>\n",
       "      <td>My food stock is not the only one which is emp...</td>\n",
       "      <td>Positive</td>\n",
       "    </tr>\n",
       "    <tr>\n",
       "      <th>4</th>\n",
       "      <td>Me, ready to go at supermarket during the #COV...</td>\n",
       "      <td>Negative</td>\n",
       "    </tr>\n",
       "  </tbody>\n",
       "</table>\n",
       "</div>"
      ],
      "text/plain": [
       "                                       OriginalTweet Sentiment\n",
       "0  @MeNyrbie @Phil_Gahan @Chrisitv https://t.co/i...   Neutral\n",
       "1  advice Talk to your neighbours family to excha...  Positive\n",
       "2  Coronavirus Australia: Woolworths to give elde...  Positive\n",
       "3  My food stock is not the only one which is emp...  Positive\n",
       "4  Me, ready to go at supermarket during the #COV...  Negative"
      ]
     },
     "execution_count": 30,
     "metadata": {},
     "output_type": "execute_result"
    }
   ],
   "source": [
    "# Reduce data sets\n",
    "train_df = train_df[['OriginalTweet','Sentiment']]\n",
    "train_df.head()"
   ]
  },
  {
   "cell_type": "code",
   "execution_count": 31,
   "id": "9eb18d6d",
   "metadata": {
    "colab": {
     "base_uri": "https://localhost:8080/",
     "height": 206
    },
    "id": "9eb18d6d",
    "outputId": "79f4e85b-6020-4cd4-c4c5-8b5397fa5e12"
   },
   "outputs": [
    {
     "data": {
      "text/html": [
       "<div>\n",
       "<style scoped>\n",
       "    .dataframe tbody tr th:only-of-type {\n",
       "        vertical-align: middle;\n",
       "    }\n",
       "\n",
       "    .dataframe tbody tr th {\n",
       "        vertical-align: top;\n",
       "    }\n",
       "\n",
       "    .dataframe thead th {\n",
       "        text-align: right;\n",
       "    }\n",
       "</style>\n",
       "<table border=\"1\" class=\"dataframe\">\n",
       "  <thead>\n",
       "    <tr style=\"text-align: right;\">\n",
       "      <th></th>\n",
       "      <th>OriginalTweet</th>\n",
       "      <th>Sentiment</th>\n",
       "    </tr>\n",
       "  </thead>\n",
       "  <tbody>\n",
       "    <tr>\n",
       "      <th>0</th>\n",
       "      <td>TRENDING: New Yorkers encounter empty supermar...</td>\n",
       "      <td>Negative</td>\n",
       "    </tr>\n",
       "    <tr>\n",
       "      <th>1</th>\n",
       "      <td>When I couldn't find hand sanitizer at Fred Me...</td>\n",
       "      <td>Positive</td>\n",
       "    </tr>\n",
       "    <tr>\n",
       "      <th>2</th>\n",
       "      <td>Find out how you can protect yourself and love...</td>\n",
       "      <td>Positive</td>\n",
       "    </tr>\n",
       "    <tr>\n",
       "      <th>3</th>\n",
       "      <td>#Panic buying hits #NewYork City as anxious sh...</td>\n",
       "      <td>Negative</td>\n",
       "    </tr>\n",
       "    <tr>\n",
       "      <th>4</th>\n",
       "      <td>#toiletpaper #dunnypaper #coronavirus #coronav...</td>\n",
       "      <td>Neutral</td>\n",
       "    </tr>\n",
       "  </tbody>\n",
       "</table>\n",
       "</div>"
      ],
      "text/plain": [
       "                                       OriginalTweet Sentiment\n",
       "0  TRENDING: New Yorkers encounter empty supermar...  Negative\n",
       "1  When I couldn't find hand sanitizer at Fred Me...  Positive\n",
       "2  Find out how you can protect yourself and love...  Positive\n",
       "3  #Panic buying hits #NewYork City as anxious sh...  Negative\n",
       "4  #toiletpaper #dunnypaper #coronavirus #coronav...   Neutral"
      ]
     },
     "execution_count": 31,
     "metadata": {},
     "output_type": "execute_result"
    }
   ],
   "source": [
    "test_df = test_df[['OriginalTweet','Sentiment']]\n",
    "test_df.head()"
   ]
  },
  {
   "cell_type": "markdown",
   "id": "e8e0a63f",
   "metadata": {
    "id": "e8e0a63f"
   },
   "source": [
    "<font size=5 color='navy'><b> Creamos un 'wordcloud' para visualizar cuáles son las palabras que más se repiten de acuerdo a cada sentimiento."
   ]
  },
  {
   "cell_type": "code",
   "execution_count": 7,
   "id": "943a1191",
   "metadata": {
    "id": "943a1191"
   },
   "outputs": [],
   "source": [
    "# Define a function that plot a wordcloud for each sentiment \n",
    "# depending on the data set and the column to extract the text \n",
    "def create_wordcloud(df,Column):\n",
    "    def get_df_name(df):\n",
    "        name =[x for x in globals() if globals()[x] is df][0]\n",
    "        return name\n",
    "    DF= get_df_name(df)\n",
    "    cmap=['winter','summer','autumn']\n",
    "    column = str(Column)\n",
    "    for i,sentiment in enumerate(train_df['Sentiment'].unique()):\n",
    "        word_cloud = WordCloud(background_color='black',colormap=cmap[i])\n",
    "        #fig = plt.figure(figsize=(14,9))\n",
    "        words=[]\n",
    "        for _,row in train_df.iterrows():\n",
    "            if row['Sentiment']==sentiment:\n",
    "                words.append(row[column].split())\n",
    "        word_cloud.generate(str(words))\n",
    "        #plt.imshow(word_cloud, interpolation='bilinear')\n",
    "        plt.axis('off')\n",
    "        word_cloud.to_file(DF+'_'+str(sentiment)+'_'+column+'.png')\n",
    "        #plt.show()\n",
    "    return None   \n"
   ]
  },
  {
   "cell_type": "code",
   "execution_count": 38,
   "id": "b2b9da37",
   "metadata": {
    "colab": {
     "base_uri": "https://localhost:8080/",
     "height": 248
    },
    "id": "b2b9da37",
    "outputId": "ab5d19db-79d9-4fea-8756-b0a3e4dd3e6f"
   },
   "outputs": [
    {
     "data": {
      "image/png": "[encoded data removed]",
      "text/plain": [
       "<Figure size 432x288 with 1 Axes>"
      ]
     },
     "metadata": {
      "needs_background": "light"
     },
     "output_type": "display_data"
    }
   ],
   "source": [
    "create_wordcloud(train_df,'OriginalTweet')        "
   ]
  },
  {
   "cell_type": "markdown",
   "id": "a85c9066",
   "metadata": {
    "id": "a85c9066"
   },
   "source": [
    "<div style=\"float:left\">\n",
    "    <h3><center><font color='Crimson'> Negative</font></center></h3>\n",
    "    <img src=\"train_df_Negative_OriginalTweet.png\" width=\"400px\" height=\"400px\">\n",
    " </div>\n",
    "<div style=\"float:left\">\n",
    "    <h3><center><font color='blue'> Neutral</font></center></h3>\n",
    "    <img src=\"train_df_Neutral_OriginalTweet.png\" width=\"400px\" height=\"400px\">\n",
    "</div>\n",
    "\n",
    "<div style=\"float:left\">\n",
    "    <h3 ><center><font color='lime'><b> Positive</b></font></center></h3>\n",
    "    <img src=\"train_df_Positive_OriginalTweet.png\" width=\"400px\" height=\"400px\">\n",
    "</div>"
   ]
  },
  {
   "cell_type": "code",
   "execution_count": 39,
   "id": "16279d41",
   "metadata": {
    "colab": {
     "base_uri": "https://localhost:8080/",
     "height": 248
    },
    "id": "16279d41",
    "outputId": "5efc1fac-231c-4d6a-9f38-07e1de590b99"
   },
   "outputs": [
    {
     "data": {
      "image/png": "[encoded data removed]",
      "text/plain": [
       "<Figure size 432x288 with 1 Axes>"
      ]
     },
     "metadata": {
      "needs_background": "light"
     },
     "output_type": "display_data"
    }
   ],
   "source": [
    "create_wordcloud(test_df,'OriginalTweet')"
   ]
  },
  {
   "cell_type": "markdown",
   "id": "0ee8fb39",
   "metadata": {
    "id": "0ee8fb39"
   },
   "source": [
    "<div style=\"float:left\">\n",
    "    <h3><center><font color='Crimson'> Negative</font></center></h3>\n",
    "    <img src=\"test_df_Negative_OriginalTweet.png\" width=\"400px\" height=\"400px\">\n",
    " </div>\n",
    "<div style=\"float:left\">\n",
    "    <h3><center><font color='blue'> Neutral</font></center></h3>\n",
    "    <img src=\"test_df_Neutral_OriginalTweet.png\" width=\"400px\" height=\"400px\">\n",
    "</div>\n",
    "\n",
    "<div style=\"float:left\">\n",
    "    <h3 ><center><font color='lime'><b> Positive</b></font></center></h3>\n",
    "    <img src=\"test_df_Positive_OriginalTweet.png\" width=\"400px\" height=\"400px\">\n",
    "</div>"
   ]
  },
  {
   "cell_type": "markdown",
   "id": "716bd4a9",
   "metadata": {
    "id": "716bd4a9"
   },
   "source": [
    "<font size=5 color='navy'><b> Notamos que muchas de las palabras hacen referencia a 'URLs' o no aportan nada, como preposiciones y artículos, por lo que limpiaremos los 'tweets' de estas palabras y de los signos de puntuación."
   ]
  },
  {
   "cell_type": "code",
   "execution_count": 8,
   "id": "551b3e2b",
   "metadata": {
    "id": "551b3e2b"
   },
   "outputs": [],
   "source": [
    "#Build a function that clean the data of noice\n",
    "def word_clean(tweet):\n",
    "    #change to lower case\n",
    "    tweet = tweet.lower()\n",
    "    #remove mentions\n",
    "    clean_tweet = re.sub(r'@\\w+',' ', tweet)       \n",
    "    #remove urls\n",
    "    clean_tweet = re.sub(r'http\\S+',' ', clean_tweet)\n",
    "    #remove html\n",
    "    clean_tweet = re.sub(r\"<.*?>\", \" \", clean_tweet)\n",
    "    #remove email\n",
    "    clean_tweet = re.sub('\\S@\\S+',' ', clean_tweet)\n",
    "    #replace ',' or '.' with a blank space\n",
    "    clean_tweet = re.sub(r'[.]|,',' ', clean_tweet)\n",
    "    #remove punctuation\n",
    "    clean_tweet = \"\".join(char for char in clean_tweet if char not in punctuation)  \n",
    "    #remove all special characters\n",
    "    clean_tweet = re.sub('[^\\w\\s]|\\d+',' ',clean_tweet)\n",
    "    #remove any blank spaces left\n",
    "    clean_tweet = re.sub(r\"\\s+\",\" \",clean_tweet).strip()\n",
    "    #make a list of every word\n",
    "    clean_tweet = clean_tweet.split()\n",
    "    #remove common words\n",
    "    clean_tweet = [word for word in clean_tweet if word not in stopwords]\n",
    "    clean_tweet = \" \".join(clean_tweet)\n",
    "    return clean_tweet"
   ]
  },
  {
   "cell_type": "code",
   "execution_count": 9,
   "id": "88c5c7ef",
   "metadata": {
    "colab": {
     "base_uri": "https://localhost:8080/",
     "height": 363
    },
    "id": "88c5c7ef",
    "outputId": "ebb5a912-ab51-427a-e904-94061ddabbbe"
   },
   "outputs": [
    {
     "data": {
      "text/html": [
       "\n",
       "  <div id=\"df-e70e1cb3-a3fd-4a17-a41d-255230bb7c1f\">\n",
       "    <div class=\"colab-df-container\">\n",
       "      <div>\n",
       "<style scoped>\n",
       "    .dataframe tbody tr th:only-of-type {\n",
       "        vertical-align: middle;\n",
       "    }\n",
       "\n",
       "    .dataframe tbody tr th {\n",
       "        vertical-align: top;\n",
       "    }\n",
       "\n",
       "    .dataframe thead th {\n",
       "        text-align: right;\n",
       "    }\n",
       "</style>\n",
       "<table border=\"1\" class=\"dataframe\">\n",
       "  <thead>\n",
       "    <tr style=\"text-align: right;\">\n",
       "      <th></th>\n",
       "      <th>OriginalTweet</th>\n",
       "      <th>Sentiment</th>\n",
       "      <th>clean_tweet</th>\n",
       "    </tr>\n",
       "  </thead>\n",
       "  <tbody>\n",
       "    <tr>\n",
       "      <th>0</th>\n",
       "      <td>@MeNyrbie @Phil_Gahan @Chrisitv https://t.co/i...</td>\n",
       "      <td>Neutral</td>\n",
       "      <td></td>\n",
       "    </tr>\n",
       "    <tr>\n",
       "      <th>1</th>\n",
       "      <td>advice Talk to your neighbours family to excha...</td>\n",
       "      <td>Positive</td>\n",
       "      <td>advice talk neighbours family exchange phone n...</td>\n",
       "    </tr>\n",
       "    <tr>\n",
       "      <th>2</th>\n",
       "      <td>Coronavirus Australia: Woolworths to give elde...</td>\n",
       "      <td>Positive</td>\n",
       "      <td>coronavirus australia woolworths give elderly ...</td>\n",
       "    </tr>\n",
       "    <tr>\n",
       "      <th>3</th>\n",
       "      <td>My food stock is not the only one which is emp...</td>\n",
       "      <td>Positive</td>\n",
       "      <td>food stock one empty please dont panic enough ...</td>\n",
       "    </tr>\n",
       "    <tr>\n",
       "      <th>4</th>\n",
       "      <td>Me, ready to go at supermarket during the #COV...</td>\n",
       "      <td>Negative</td>\n",
       "      <td>ready go supermarket covid outbreak im paranoi...</td>\n",
       "    </tr>\n",
       "    <tr>\n",
       "      <th>5</th>\n",
       "      <td>As news of the regionÂs first confirmed COVID...</td>\n",
       "      <td>Positive</td>\n",
       "      <td>news regionâ first confirmed covid case came s...</td>\n",
       "    </tr>\n",
       "    <tr>\n",
       "      <th>6</th>\n",
       "      <td>Cashier at grocery store was sharing his insig...</td>\n",
       "      <td>Positive</td>\n",
       "      <td>cashier grocery store sharing insights covid p...</td>\n",
       "    </tr>\n",
       "    <tr>\n",
       "      <th>7</th>\n",
       "      <td>Was at the supermarket today. Didn't buy toile...</td>\n",
       "      <td>Neutral</td>\n",
       "      <td>supermarket today didnt buy toilet paper rebel...</td>\n",
       "    </tr>\n",
       "    <tr>\n",
       "      <th>8</th>\n",
       "      <td>Due to COVID-19 our retail store and classroom...</td>\n",
       "      <td>Positive</td>\n",
       "      <td>due covid retail store classroom atlanta open ...</td>\n",
       "    </tr>\n",
       "    <tr>\n",
       "      <th>9</th>\n",
       "      <td>For corona prevention,we should stop to buy th...</td>\n",
       "      <td>Negative</td>\n",
       "      <td>corona prevention stop buy things cash use onl...</td>\n",
       "    </tr>\n",
       "  </tbody>\n",
       "</table>\n",
       "</div>\n",
       "      <button class=\"colab-df-convert\" onclick=\"convertToInteractive('df-e70e1cb3-a3fd-4a17-a41d-255230bb7c1f')\"\n",
       "              title=\"Convert this dataframe to an interactive table.\"\n",
       "              style=\"display:none;\">\n",
       "        \n",
       "  <svg xmlns=\"http://www.w3.org/2000/svg\" height=\"24px\"viewBox=\"0 0 24 24\"\n",
       "       width=\"24px\">\n",
       "    <path d=\"M0 0h24v24H0V0z\" fill=\"none\"/>\n",
       "    <path d=\"M18.56 5.44l.94 2.06.94-2.06 2.06-.94-2.06-.94-.94-2.06-.94 2.06-2.06.94zm-11 1L8.5 8.5l.94-2.06 2.06-.94-2.06-.94L8.5 2.5l-.94 2.06-2.06.94zm10 10l.94 2.06.94-2.06 2.06-.94-2.06-.94-.94-2.06-.94 2.06-2.06.94z\"/><path d=\"M17.41 7.96l-1.37-1.37c-.4-.4-.92-.59-1.43-.59-.52 0-1.04.2-1.43.59L10.3 9.45l-7.72 7.72c-.78.78-.78 2.05 0 2.83L4 21.41c.39.39.9.59 1.41.59.51 0 1.02-.2 1.41-.59l7.78-7.78 2.81-2.81c.8-.78.8-2.07 0-2.86zM5.41 20L4 18.59l7.72-7.72 1.47 1.35L5.41 20z\"/>\n",
       "  </svg>\n",
       "      </button>\n",
       "      \n",
       "  <style>\n",
       "    .colab-df-container {\n",
       "      display:flex;\n",
       "      flex-wrap:wrap;\n",
       "      gap: 12px;\n",
       "    }\n",
       "\n",
       "    .colab-df-convert {\n",
       "      background-color: #E8F0FE;\n",
       "      border: none;\n",
       "      border-radius: 50%;\n",
       "      cursor: pointer;\n",
       "      display: none;\n",
       "      fill: #1967D2;\n",
       "      height: 32px;\n",
       "      padding: 0 0 0 0;\n",
       "      width: 32px;\n",
       "    }\n",
       "\n",
       "    .colab-df-convert:hover {\n",
       "      background-color: #E2EBFA;\n",
       "      box-shadow: 0px 1px 2px rgba(60, 64, 67, 0.3), 0px 1px 3px 1px rgba(60, 64, 67, 0.15);\n",
       "      fill: #174EA6;\n",
       "    }\n",
       "\n",
       "    [theme=dark] .colab-df-convert {\n",
       "      background-color: #3B4455;\n",
       "      fill: #D2E3FC;\n",
       "    }\n",
       "\n",
       "    [theme=dark] .colab-df-convert:hover {\n",
       "      background-color: #434B5C;\n",
       "      box-shadow: 0px 1px 3px 1px rgba(0, 0, 0, 0.15);\n",
       "      filter: drop-shadow(0px 1px 2px rgba(0, 0, 0, 0.3));\n",
       "      fill: #FFFFFF;\n",
       "    }\n",
       "  </style>\n",
       "\n",
       "      <script>\n",
       "        const buttonEl =\n",
       "          document.querySelector('#df-e70e1cb3-a3fd-4a17-a41d-255230bb7c1f button.colab-df-convert');\n",
       "        buttonEl.style.display =\n",
       "          google.colab.kernel.accessAllowed ? 'block' : 'none';\n",
       "\n",
       "        async function convertToInteractive(key) {\n",
       "          const element = document.querySelector('#df-e70e1cb3-a3fd-4a17-a41d-255230bb7c1f');\n",
       "          const dataTable =\n",
       "            await google.colab.kernel.invokeFunction('convertToInteractive',\n",
       "                                                     [key], {});\n",
       "          if (!dataTable) return;\n",
       "\n",
       "          const docLinkHtml = 'Like what you see? Visit the ' +\n",
       "            '<a target=\"_blank\" href=https://colab.research.google.com/notebooks/data_table.ipynb>data table notebook</a>'\n",
       "            + ' to learn more about interactive tables.';\n",
       "          element.innerHTML = '';\n",
       "          dataTable['output_type'] = 'display_data';\n",
       "          await google.colab.output.renderOutput(dataTable, element);\n",
       "          const docLink = document.createElement('div');\n",
       "          docLink.innerHTML = docLinkHtml;\n",
       "          element.appendChild(docLink);\n",
       "        }\n",
       "      </script>\n",
       "    </div>\n",
       "  </div>\n",
       "  "
      ],
      "text/plain": [
       "                                       OriginalTweet Sentiment  \\\n",
       "0  @MeNyrbie @Phil_Gahan @Chrisitv https://t.co/i...   Neutral   \n",
       "1  advice Talk to your neighbours family to excha...  Positive   \n",
       "2  Coronavirus Australia: Woolworths to give elde...  Positive   \n",
       "3  My food stock is not the only one which is emp...  Positive   \n",
       "4  Me, ready to go at supermarket during the #COV...  Negative   \n",
       "5  As news of the regionÂs first confirmed COVID...  Positive   \n",
       "6  Cashier at grocery store was sharing his insig...  Positive   \n",
       "7  Was at the supermarket today. Didn't buy toile...   Neutral   \n",
       "8  Due to COVID-19 our retail store and classroom...  Positive   \n",
       "9  For corona prevention,we should stop to buy th...  Negative   \n",
       "\n",
       "                                         clean_tweet  \n",
       "0                                                     \n",
       "1  advice talk neighbours family exchange phone n...  \n",
       "2  coronavirus australia woolworths give elderly ...  \n",
       "3  food stock one empty please dont panic enough ...  \n",
       "4  ready go supermarket covid outbreak im paranoi...  \n",
       "5  news regionâ first confirmed covid case came s...  \n",
       "6  cashier grocery store sharing insights covid p...  \n",
       "7  supermarket today didnt buy toilet paper rebel...  \n",
       "8  due covid retail store classroom atlanta open ...  \n",
       "9  corona prevention stop buy things cash use onl...  "
      ]
     },
     "execution_count": 9,
     "metadata": {},
     "output_type": "execute_result"
    }
   ],
   "source": [
    "train_df['clean_tweet'] = train_df['OriginalTweet'].apply(word_clean)\n",
    "train_df.head(10)"
   ]
  },
  {
   "cell_type": "code",
   "execution_count": 10,
   "id": "e906d969",
   "metadata": {
    "colab": {
     "base_uri": "https://localhost:8080/",
     "height": 363
    },
    "id": "e906d969",
    "outputId": "ad6aee10-8b99-45dc-84b0-b9f60208e4af"
   },
   "outputs": [
    {
     "data": {
      "text/html": [
       "\n",
       "  <div id=\"df-455992e9-1519-40a3-81ff-cdc03e0da5ce\">\n",
       "    <div class=\"colab-df-container\">\n",
       "      <div>\n",
       "<style scoped>\n",
       "    .dataframe tbody tr th:only-of-type {\n",
       "        vertical-align: middle;\n",
       "    }\n",
       "\n",
       "    .dataframe tbody tr th {\n",
       "        vertical-align: top;\n",
       "    }\n",
       "\n",
       "    .dataframe thead th {\n",
       "        text-align: right;\n",
       "    }\n",
       "</style>\n",
       "<table border=\"1\" class=\"dataframe\">\n",
       "  <thead>\n",
       "    <tr style=\"text-align: right;\">\n",
       "      <th></th>\n",
       "      <th>OriginalTweet</th>\n",
       "      <th>Sentiment</th>\n",
       "      <th>clean_tweet</th>\n",
       "    </tr>\n",
       "  </thead>\n",
       "  <tbody>\n",
       "    <tr>\n",
       "      <th>0</th>\n",
       "      <td>TRENDING: New Yorkers encounter empty supermar...</td>\n",
       "      <td>Negative</td>\n",
       "      <td>trending new yorkers encounter empty supermark...</td>\n",
       "    </tr>\n",
       "    <tr>\n",
       "      <th>1</th>\n",
       "      <td>When I couldn't find hand sanitizer at Fred Me...</td>\n",
       "      <td>Positive</td>\n",
       "      <td>couldnt find hand sanitizer fred meyer turned ...</td>\n",
       "    </tr>\n",
       "    <tr>\n",
       "      <th>2</th>\n",
       "      <td>Find out how you can protect yourself and love...</td>\n",
       "      <td>Positive</td>\n",
       "      <td>find protect loved ones coronavirus</td>\n",
       "    </tr>\n",
       "    <tr>\n",
       "      <th>3</th>\n",
       "      <td>#Panic buying hits #NewYork City as anxious sh...</td>\n",
       "      <td>Negative</td>\n",
       "      <td>panic buying hits newyork city anxious shopper...</td>\n",
       "    </tr>\n",
       "    <tr>\n",
       "      <th>4</th>\n",
       "      <td>#toiletpaper #dunnypaper #coronavirus #coronav...</td>\n",
       "      <td>Neutral</td>\n",
       "      <td>toiletpaper dunnypaper coronavirus coronavirus...</td>\n",
       "    </tr>\n",
       "    <tr>\n",
       "      <th>5</th>\n",
       "      <td>Do you remember the last time you paid $2.99 a...</td>\n",
       "      <td>Neutral</td>\n",
       "      <td>remember last time paid gallon regular gas los...</td>\n",
       "    </tr>\n",
       "    <tr>\n",
       "      <th>6</th>\n",
       "      <td>Voting in the age of #coronavirus = hand sanit...</td>\n",
       "      <td>Positive</td>\n",
       "      <td>voting age coronavirus hand sanitizer supertue...</td>\n",
       "    </tr>\n",
       "    <tr>\n",
       "      <th>7</th>\n",
       "      <td>@DrTedros \"We canÂt stop #COVID19 without pro...</td>\n",
       "      <td>Neutral</td>\n",
       "      <td>canâ stop covid without protecting healthworke...</td>\n",
       "    </tr>\n",
       "    <tr>\n",
       "      <th>8</th>\n",
       "      <td>HI TWITTER! I am a pharmacist. I sell hand san...</td>\n",
       "      <td>Negative</td>\n",
       "      <td>hi twitter pharmacist sell hand sanitizer livi...</td>\n",
       "    </tr>\n",
       "    <tr>\n",
       "      <th>9</th>\n",
       "      <td>Anyone been in a supermarket over the last few...</td>\n",
       "      <td>Positive</td>\n",
       "      <td>anyone supermarket last days went normal shop ...</td>\n",
       "    </tr>\n",
       "  </tbody>\n",
       "</table>\n",
       "</div>\n",
       "      <button class=\"colab-df-convert\" onclick=\"convertToInteractive('df-455992e9-1519-40a3-81ff-cdc03e0da5ce')\"\n",
       "              title=\"Convert this dataframe to an interactive table.\"\n",
       "              style=\"display:none;\">\n",
       "        \n",
       "  <svg xmlns=\"http://www.w3.org/2000/svg\" height=\"24px\"viewBox=\"0 0 24 24\"\n",
       "       width=\"24px\">\n",
       "    <path d=\"M0 0h24v24H0V0z\" fill=\"none\"/>\n",
       "    <path d=\"M18.56 5.44l.94 2.06.94-2.06 2.06-.94-2.06-.94-.94-2.06-.94 2.06-2.06.94zm-11 1L8.5 8.5l.94-2.06 2.06-.94-2.06-.94L8.5 2.5l-.94 2.06-2.06.94zm10 10l.94 2.06.94-2.06 2.06-.94-2.06-.94-.94-2.06-.94 2.06-2.06.94z\"/><path d=\"M17.41 7.96l-1.37-1.37c-.4-.4-.92-.59-1.43-.59-.52 0-1.04.2-1.43.59L10.3 9.45l-7.72 7.72c-.78.78-.78 2.05 0 2.83L4 21.41c.39.39.9.59 1.41.59.51 0 1.02-.2 1.41-.59l7.78-7.78 2.81-2.81c.8-.78.8-2.07 0-2.86zM5.41 20L4 18.59l7.72-7.72 1.47 1.35L5.41 20z\"/>\n",
       "  </svg>\n",
       "      </button>\n",
       "      \n",
       "  <style>\n",
       "    .colab-df-container {\n",
       "      display:flex;\n",
       "      flex-wrap:wrap;\n",
       "      gap: 12px;\n",
       "    }\n",
       "\n",
       "    .colab-df-convert {\n",
       "      background-color: #E8F0FE;\n",
       "      border: none;\n",
       "      border-radius: 50%;\n",
       "      cursor: pointer;\n",
       "      display: none;\n",
       "      fill: #1967D2;\n",
       "      height: 32px;\n",
       "      padding: 0 0 0 0;\n",
       "      width: 32px;\n",
       "    }\n",
       "\n",
       "    .colab-df-convert:hover {\n",
       "      background-color: #E2EBFA;\n",
       "      box-shadow: 0px 1px 2px rgba(60, 64, 67, 0.3), 0px 1px 3px 1px rgba(60, 64, 67, 0.15);\n",
       "      fill: #174EA6;\n",
       "    }\n",
       "\n",
       "    [theme=dark] .colab-df-convert {\n",
       "      background-color: #3B4455;\n",
       "      fill: #D2E3FC;\n",
       "    }\n",
       "\n",
       "    [theme=dark] .colab-df-convert:hover {\n",
       "      background-color: #434B5C;\n",
       "      box-shadow: 0px 1px 3px 1px rgba(0, 0, 0, 0.15);\n",
       "      filter: drop-shadow(0px 1px 2px rgba(0, 0, 0, 0.3));\n",
       "      fill: #FFFFFF;\n",
       "    }\n",
       "  </style>\n",
       "\n",
       "      <script>\n",
       "        const buttonEl =\n",
       "          document.querySelector('#df-455992e9-1519-40a3-81ff-cdc03e0da5ce button.colab-df-convert');\n",
       "        buttonEl.style.display =\n",
       "          google.colab.kernel.accessAllowed ? 'block' : 'none';\n",
       "\n",
       "        async function convertToInteractive(key) {\n",
       "          const element = document.querySelector('#df-455992e9-1519-40a3-81ff-cdc03e0da5ce');\n",
       "          const dataTable =\n",
       "            await google.colab.kernel.invokeFunction('convertToInteractive',\n",
       "                                                     [key], {});\n",
       "          if (!dataTable) return;\n",
       "\n",
       "          const docLinkHtml = 'Like what you see? Visit the ' +\n",
       "            '<a target=\"_blank\" href=https://colab.research.google.com/notebooks/data_table.ipynb>data table notebook</a>'\n",
       "            + ' to learn more about interactive tables.';\n",
       "          element.innerHTML = '';\n",
       "          dataTable['output_type'] = 'display_data';\n",
       "          await google.colab.output.renderOutput(dataTable, element);\n",
       "          const docLink = document.createElement('div');\n",
       "          docLink.innerHTML = docLinkHtml;\n",
       "          element.appendChild(docLink);\n",
       "        }\n",
       "      </script>\n",
       "    </div>\n",
       "  </div>\n",
       "  "
      ],
      "text/plain": [
       "                                       OriginalTweet Sentiment  \\\n",
       "0  TRENDING: New Yorkers encounter empty supermar...  Negative   \n",
       "1  When I couldn't find hand sanitizer at Fred Me...  Positive   \n",
       "2  Find out how you can protect yourself and love...  Positive   \n",
       "3  #Panic buying hits #NewYork City as anxious sh...  Negative   \n",
       "4  #toiletpaper #dunnypaper #coronavirus #coronav...   Neutral   \n",
       "5  Do you remember the last time you paid $2.99 a...   Neutral   \n",
       "6  Voting in the age of #coronavirus = hand sanit...  Positive   \n",
       "7  @DrTedros \"We canÂt stop #COVID19 without pro...   Neutral   \n",
       "8  HI TWITTER! I am a pharmacist. I sell hand san...  Negative   \n",
       "9  Anyone been in a supermarket over the last few...  Positive   \n",
       "\n",
       "                                         clean_tweet  \n",
       "0  trending new yorkers encounter empty supermark...  \n",
       "1  couldnt find hand sanitizer fred meyer turned ...  \n",
       "2                find protect loved ones coronavirus  \n",
       "3  panic buying hits newyork city anxious shopper...  \n",
       "4  toiletpaper dunnypaper coronavirus coronavirus...  \n",
       "5  remember last time paid gallon regular gas los...  \n",
       "6  voting age coronavirus hand sanitizer supertue...  \n",
       "7  canâ stop covid without protecting healthworke...  \n",
       "8  hi twitter pharmacist sell hand sanitizer livi...  \n",
       "9  anyone supermarket last days went normal shop ...  "
      ]
     },
     "execution_count": 10,
     "metadata": {},
     "output_type": "execute_result"
    }
   ],
   "source": [
    "test_df['clean_tweet'] = test_df['OriginalTweet'].apply(word_clean)\n",
    "test_df.head(10)"
   ]
  },
  {
   "cell_type": "code",
   "execution_count": 43,
   "id": "b64d2c11",
   "metadata": {
    "colab": {
     "base_uri": "https://localhost:8080/",
     "height": 248
    },
    "id": "b64d2c11",
    "outputId": "181c3a27-27cc-4e06-d989-9bf350cc88d7"
   },
   "outputs": [
    {
     "data": {
      "image/png": "[encoded data removed]",
      "text/plain": [
       "<Figure size 432x288 with 1 Axes>"
      ]
     },
     "metadata": {
      "needs_background": "light"
     },
     "output_type": "display_data"
    }
   ],
   "source": [
    "create_wordcloud(train_df,'clean_tweet')\n"
   ]
  },
  {
   "cell_type": "markdown",
   "id": "2d8c16f7",
   "metadata": {
    "id": "2d8c16f7"
   },
   "source": [
    "<div style=\"float:left\">\n",
    "    <h3><center><font color='Crimson'> Negative</font></center></h3>\n",
    "    <img src=\"train_df_Negative_clean_tweet.png\" width=\"400px\" height=\"400px\">\n",
    " </div>\n",
    "<div style=\"float:left\">\n",
    "    <h3><center><font color='blue'> Neutral</font></center></h3>\n",
    "    <img src=\"train_df_Neutral_clean_tweet.png\" width=\"400px\" height=\"400px\">\n",
    "</div>\n",
    "\n",
    "<div style=\"float:left\">\n",
    "    <h3 ><center><font color='lime'><b> Positive</b></font></center></h3>\n",
    "    <img src=\"train_df_Positive_clean_tweet.png\" width=\"400px\" height=\"400px\">\n",
    "</div>"
   ]
  },
  {
   "cell_type": "code",
   "execution_count": 44,
   "id": "f752c246",
   "metadata": {
    "colab": {
     "base_uri": "https://localhost:8080/",
     "height": 248
    },
    "id": "f752c246",
    "outputId": "5b56d45c-2641-45d6-f6be-f3e3d003224d"
   },
   "outputs": [
    {
     "data": {
      "image/png": "[encoded data removed]",
      "text/plain": [
       "<Figure size 432x288 with 1 Axes>"
      ]
     },
     "metadata": {
      "needs_background": "light"
     },
     "output_type": "display_data"
    }
   ],
   "source": [
    "create_wordcloud(test_df,'clean_tweet')"
   ]
  },
  {
   "cell_type": "markdown",
   "id": "ee9e5994",
   "metadata": {
    "id": "ee9e5994"
   },
   "source": [
    "\n",
    "<div style=\"float:left\">\n",
    "    <h3><center><font color='crimson'> Negative</font></center></h3>\n",
    "    <img src=\"test_df_Negative_clean_tweet.png\" width=\"400px\" height=\"400px\">\n",
    " </div>\n",
    "<div style=\"float:left\">\n",
    "    <h3><center><font color='blue'> Neutral</font></center></h3>\n",
    "    <img src=\"test_df_Neutral_clean_tweet.png\" width=\"400px\" height=\"400px\">\n",
    "</div>\n",
    "\n",
    "<div style=\"float:left\">\n",
    "    <h3 ><center><font color='lime'><b> Positive</b></font></center></h3>\n",
    "    <img src=\"test_df_Positive_clean_tweet.png\" width=\"400px\" height=\"400px\">\n",
    "</div>"
   ]
  },
  {
   "cell_type": "markdown",
   "id": "bd05d00b",
   "metadata": {
    "id": "bd05d00b"
   },
   "source": [
    "<font size=5 color='navy'><b>  Una vez limpiados los 'tweets', codificamos los sentimientos."
   ]
  },
  {
   "cell_type": "code",
   "execution_count": 11,
   "id": "bf356aaf",
   "metadata": {
    "colab": {
     "base_uri": "https://localhost:8080/"
    },
    "id": "bf356aaf",
    "outputId": "c836a208-0bc5-4734-bf6a-a69d982e531c"
   },
   "outputs": [
    {
     "data": {
      "text/plain": [
       "{'Negative': 2, 'Neutral': 0, 'Positive': 1}"
      ]
     },
     "execution_count": 11,
     "metadata": {},
     "output_type": "execute_result"
    }
   ],
   "source": [
    "# Map the sentiment string values into numeric values\n",
    "mapping_dic = {sentiment:i for i,sentiment in enumerate(train_df.Sentiment.unique())}\n",
    "mapping_dic"
   ]
  },
  {
   "cell_type": "code",
   "execution_count": 12,
   "id": "69c6d2f5",
   "metadata": {
    "colab": {
     "base_uri": "https://localhost:8080/",
     "height": 363
    },
    "id": "69c6d2f5",
    "outputId": "8ce90e27-6c15-438a-d794-c2bdd501a7b7"
   },
   "outputs": [
    {
     "data": {
      "text/html": [
       "\n",
       "  <div id=\"df-b44c89e4-c32d-4092-b22b-1ad776f18f3d\">\n",
       "    <div class=\"colab-df-container\">\n",
       "      <div>\n",
       "<style scoped>\n",
       "    .dataframe tbody tr th:only-of-type {\n",
       "        vertical-align: middle;\n",
       "    }\n",
       "\n",
       "    .dataframe tbody tr th {\n",
       "        vertical-align: top;\n",
       "    }\n",
       "\n",
       "    .dataframe thead th {\n",
       "        text-align: right;\n",
       "    }\n",
       "</style>\n",
       "<table border=\"1\" class=\"dataframe\">\n",
       "  <thead>\n",
       "    <tr style=\"text-align: right;\">\n",
       "      <th></th>\n",
       "      <th>OriginalTweet</th>\n",
       "      <th>Sentiment</th>\n",
       "      <th>clean_tweet</th>\n",
       "      <th>Sentiment coded</th>\n",
       "    </tr>\n",
       "  </thead>\n",
       "  <tbody>\n",
       "    <tr>\n",
       "      <th>21974</th>\n",
       "      <td>Just got a MPC touch for two hundo. COVID-19 p...</td>\n",
       "      <td>Neutral</td>\n",
       "      <td>got mpc touch two hundo covid prices</td>\n",
       "      <td>0</td>\n",
       "    </tr>\n",
       "    <tr>\n",
       "      <th>34466</th>\n",
       "      <td>You too can help the Lagos Food Bank meet the ...</td>\n",
       "      <td>Positive</td>\n",
       "      <td>help lagos food bank meet increased demand foo...</td>\n",
       "      <td>1</td>\n",
       "    </tr>\n",
       "    <tr>\n",
       "      <th>37602</th>\n",
       "      <td>PSA Wash hands Wash hands Make sure you lather...</td>\n",
       "      <td>Negative</td>\n",
       "      <td>psa wash hands wash hands make sure lather soa...</td>\n",
       "      <td>2</td>\n",
       "    </tr>\n",
       "    <tr>\n",
       "      <th>35030</th>\n",
       "      <td>i just spent 50 dollars at the grocery store a...</td>\n",
       "      <td>Neutral</td>\n",
       "      <td>spent dollars grocery store liquor store right</td>\n",
       "      <td>0</td>\n",
       "    </tr>\n",
       "    <tr>\n",
       "      <th>24234</th>\n",
       "      <td>Me and another dude rollinÂ up to Walgreens t...</td>\n",
       "      <td>Positive</td>\n",
       "      <td>another dude rollinâ walgreens see toilet pape...</td>\n",
       "      <td>1</td>\n",
       "    </tr>\n",
       "    <tr>\n",
       "      <th>14777</th>\n",
       "      <td>@BorisJohnson @alexburghart How the hell do yo...</td>\n",
       "      <td>Negative</td>\n",
       "      <td>hell propose people family people help shoppin...</td>\n",
       "      <td>2</td>\n",
       "    </tr>\n",
       "    <tr>\n",
       "      <th>22209</th>\n",
       "      <td>What I see is complete idiots going through li...</td>\n",
       "      <td>Negative</td>\n",
       "      <td>see complete idiots going life blind clue scie...</td>\n",
       "      <td>2</td>\n",
       "    </tr>\n",
       "    <tr>\n",
       "      <th>26548</th>\n",
       "      <td>This is how IÂm going to do my wife when she ...</td>\n",
       "      <td>Neutral</td>\n",
       "      <td>iâ going wife comes back store covid pandemic</td>\n",
       "      <td>0</td>\n",
       "    </tr>\n",
       "    <tr>\n",
       "      <th>32756</th>\n",
       "      <td>Hundreds of lawmakers across the country, incl...</td>\n",
       "      <td>Positive</td>\n",
       "      <td>hundreds lawmakers across country including md...</td>\n",
       "      <td>1</td>\n",
       "    </tr>\n",
       "    <tr>\n",
       "      <th>230</th>\n",
       "      <td>@ASDA @Tesco @Morrisons @sainsburys donÂt you...</td>\n",
       "      <td>Neutral</td>\n",
       "      <td>donâ think itâ time reduce minimum online shop...</td>\n",
       "      <td>0</td>\n",
       "    </tr>\n",
       "  </tbody>\n",
       "</table>\n",
       "</div>\n",
       "      <button class=\"colab-df-convert\" onclick=\"convertToInteractive('df-b44c89e4-c32d-4092-b22b-1ad776f18f3d')\"\n",
       "              title=\"Convert this dataframe to an interactive table.\"\n",
       "              style=\"display:none;\">\n",
       "        \n",
       "  <svg xmlns=\"http://www.w3.org/2000/svg\" height=\"24px\"viewBox=\"0 0 24 24\"\n",
       "       width=\"24px\">\n",
       "    <path d=\"M0 0h24v24H0V0z\" fill=\"none\"/>\n",
       "    <path d=\"M18.56 5.44l.94 2.06.94-2.06 2.06-.94-2.06-.94-.94-2.06-.94 2.06-2.06.94zm-11 1L8.5 8.5l.94-2.06 2.06-.94-2.06-.94L8.5 2.5l-.94 2.06-2.06.94zm10 10l.94 2.06.94-2.06 2.06-.94-2.06-.94-.94-2.06-.94 2.06-2.06.94z\"/><path d=\"M17.41 7.96l-1.37-1.37c-.4-.4-.92-.59-1.43-.59-.52 0-1.04.2-1.43.59L10.3 9.45l-7.72 7.72c-.78.78-.78 2.05 0 2.83L4 21.41c.39.39.9.59 1.41.59.51 0 1.02-.2 1.41-.59l7.78-7.78 2.81-2.81c.8-.78.8-2.07 0-2.86zM5.41 20L4 18.59l7.72-7.72 1.47 1.35L5.41 20z\"/>\n",
       "  </svg>\n",
       "      </button>\n",
       "      \n",
       "  <style>\n",
       "    .colab-df-container {\n",
       "      display:flex;\n",
       "      flex-wrap:wrap;\n",
       "      gap: 12px;\n",
       "    }\n",
       "\n",
       "    .colab-df-convert {\n",
       "      background-color: #E8F0FE;\n",
       "      border: none;\n",
       "      border-radius: 50%;\n",
       "      cursor: pointer;\n",
       "      display: none;\n",
       "      fill: #1967D2;\n",
       "      height: 32px;\n",
       "      padding: 0 0 0 0;\n",
       "      width: 32px;\n",
       "    }\n",
       "\n",
       "    .colab-df-convert:hover {\n",
       "      background-color: #E2EBFA;\n",
       "      box-shadow: 0px 1px 2px rgba(60, 64, 67, 0.3), 0px 1px 3px 1px rgba(60, 64, 67, 0.15);\n",
       "      fill: #174EA6;\n",
       "    }\n",
       "\n",
       "    [theme=dark] .colab-df-convert {\n",
       "      background-color: #3B4455;\n",
       "      fill: #D2E3FC;\n",
       "    }\n",
       "\n",
       "    [theme=dark] .colab-df-convert:hover {\n",
       "      background-color: #434B5C;\n",
       "      box-shadow: 0px 1px 3px 1px rgba(0, 0, 0, 0.15);\n",
       "      filter: drop-shadow(0px 1px 2px rgba(0, 0, 0, 0.3));\n",
       "      fill: #FFFFFF;\n",
       "    }\n",
       "  </style>\n",
       "\n",
       "      <script>\n",
       "        const buttonEl =\n",
       "          document.querySelector('#df-b44c89e4-c32d-4092-b22b-1ad776f18f3d button.colab-df-convert');\n",
       "        buttonEl.style.display =\n",
       "          google.colab.kernel.accessAllowed ? 'block' : 'none';\n",
       "\n",
       "        async function convertToInteractive(key) {\n",
       "          const element = document.querySelector('#df-b44c89e4-c32d-4092-b22b-1ad776f18f3d');\n",
       "          const dataTable =\n",
       "            await google.colab.kernel.invokeFunction('convertToInteractive',\n",
       "                                                     [key], {});\n",
       "          if (!dataTable) return;\n",
       "\n",
       "          const docLinkHtml = 'Like what you see? Visit the ' +\n",
       "            '<a target=\"_blank\" href=https://colab.research.google.com/notebooks/data_table.ipynb>data table notebook</a>'\n",
       "            + ' to learn more about interactive tables.';\n",
       "          element.innerHTML = '';\n",
       "          dataTable['output_type'] = 'display_data';\n",
       "          await google.colab.output.renderOutput(dataTable, element);\n",
       "          const docLink = document.createElement('div');\n",
       "          docLink.innerHTML = docLinkHtml;\n",
       "          element.appendChild(docLink);\n",
       "        }\n",
       "      </script>\n",
       "    </div>\n",
       "  </div>\n",
       "  "
      ],
      "text/plain": [
       "                                           OriginalTweet Sentiment  \\\n",
       "21974  Just got a MPC touch for two hundo. COVID-19 p...   Neutral   \n",
       "34466  You too can help the Lagos Food Bank meet the ...  Positive   \n",
       "37602  PSA Wash hands Wash hands Make sure you lather...  Negative   \n",
       "35030  i just spent 50 dollars at the grocery store a...   Neutral   \n",
       "24234  Me and another dude rollinÂ up to Walgreens t...  Positive   \n",
       "14777  @BorisJohnson @alexburghart How the hell do yo...  Negative   \n",
       "22209  What I see is complete idiots going through li...  Negative   \n",
       "26548  This is how IÂm going to do my wife when she ...   Neutral   \n",
       "32756  Hundreds of lawmakers across the country, incl...  Positive   \n",
       "230    @ASDA @Tesco @Morrisons @sainsburys donÂt you...   Neutral   \n",
       "\n",
       "                                             clean_tweet  Sentiment coded  \n",
       "21974               got mpc touch two hundo covid prices                0  \n",
       "34466  help lagos food bank meet increased demand foo...                1  \n",
       "37602  psa wash hands wash hands make sure lather soa...                2  \n",
       "35030     spent dollars grocery store liquor store right                0  \n",
       "24234  another dude rollinâ walgreens see toilet pape...                1  \n",
       "14777  hell propose people family people help shoppin...                2  \n",
       "22209  see complete idiots going life blind clue scie...                2  \n",
       "26548      iâ going wife comes back store covid pandemic                0  \n",
       "32756  hundreds lawmakers across country including md...                1  \n",
       "230    donâ think itâ time reduce minimum online shop...                0  "
      ]
     },
     "execution_count": 12,
     "metadata": {},
     "output_type": "execute_result"
    }
   ],
   "source": [
    "train_df['Sentiment coded'] = train_df['Sentiment'].map(lambda x: mapping_dic[x])\n",
    "train_df.sample(10)"
   ]
  },
  {
   "cell_type": "code",
   "execution_count": 13,
   "id": "9b5e3324",
   "metadata": {
    "colab": {
     "base_uri": "https://localhost:8080/",
     "height": 363
    },
    "id": "9b5e3324",
    "outputId": "59549de7-cc2b-4c09-afb9-dbab29e70c15"
   },
   "outputs": [
    {
     "data": {
      "text/html": [
       "\n",
       "  <div id=\"df-be690d13-b4c0-42bd-aa01-b7097f3d27f0\">\n",
       "    <div class=\"colab-df-container\">\n",
       "      <div>\n",
       "<style scoped>\n",
       "    .dataframe tbody tr th:only-of-type {\n",
       "        vertical-align: middle;\n",
       "    }\n",
       "\n",
       "    .dataframe tbody tr th {\n",
       "        vertical-align: top;\n",
       "    }\n",
       "\n",
       "    .dataframe thead th {\n",
       "        text-align: right;\n",
       "    }\n",
       "</style>\n",
       "<table border=\"1\" class=\"dataframe\">\n",
       "  <thead>\n",
       "    <tr style=\"text-align: right;\">\n",
       "      <th></th>\n",
       "      <th>OriginalTweet</th>\n",
       "      <th>Sentiment</th>\n",
       "      <th>clean_tweet</th>\n",
       "      <th>Sentiment coded</th>\n",
       "    </tr>\n",
       "  </thead>\n",
       "  <tbody>\n",
       "    <tr>\n",
       "      <th>1264</th>\n",
       "      <td>Show me where the eggs are. That's all I need ...</td>\n",
       "      <td>Neutral</td>\n",
       "      <td>show eggs thats need today small grocery store...</td>\n",
       "      <td>0</td>\n",
       "    </tr>\n",
       "    <tr>\n",
       "      <th>3063</th>\n",
       "      <td>When your local grocery store turns into an MM...</td>\n",
       "      <td>Negative</td>\n",
       "      <td>local grocery store turns mma ring remember gr...</td>\n",
       "      <td>2</td>\n",
       "    </tr>\n",
       "    <tr>\n",
       "      <th>1680</th>\n",
       "      <td>On the bright side during this #Covid_19 \\r\\r\\...</td>\n",
       "      <td>Positive</td>\n",
       "      <td>bright side covid time spend beloved ones work...</td>\n",
       "      <td>1</td>\n",
       "    </tr>\n",
       "    <tr>\n",
       "      <th>3446</th>\n",
       "      <td>Retail employees are at a high risk, any store...</td>\n",
       "      <td>Negative</td>\n",
       "      <td>retail employees high risk store close due ris...</td>\n",
       "      <td>2</td>\n",
       "    </tr>\n",
       "    <tr>\n",
       "      <th>1927</th>\n",
       "      <td>While I don't like all of Amazon's choices, to...</td>\n",
       "      <td>Positive</td>\n",
       "      <td>dont like amazons choices today learned toilet...</td>\n",
       "      <td>1</td>\n",
       "    </tr>\n",
       "    <tr>\n",
       "      <th>2907</th>\n",
       "      <td>One grocery store in Helsinki has appealed to ...</td>\n",
       "      <td>Positive</td>\n",
       "      <td>one grocery store helsinki appealed customers ...</td>\n",
       "      <td>1</td>\n",
       "    </tr>\n",
       "    <tr>\n",
       "      <th>2226</th>\n",
       "      <td>IÂm about screwed atm with #Covid_19 as Norwa...</td>\n",
       "      <td>Negative</td>\n",
       "      <td>iâ screwed atm covid norwayâ something lockdow...</td>\n",
       "      <td>2</td>\n",
       "    </tr>\n",
       "    <tr>\n",
       "      <th>12</th>\n",
       "      <td>Panic food buying in Germany due to #coronavir...</td>\n",
       "      <td>Negative</td>\n",
       "      <td>panic food buying germany due coronavirus begu...</td>\n",
       "      <td>2</td>\n",
       "    </tr>\n",
       "    <tr>\n",
       "      <th>2121</th>\n",
       "      <td>Possible #Covid_19 impact on food systems in d...</td>\n",
       "      <td>Positive</td>\n",
       "      <td>possible covid impact food systems developing ...</td>\n",
       "      <td>1</td>\n",
       "    </tr>\n",
       "    <tr>\n",
       "      <th>3409</th>\n",
       "      <td>Unsurprisingly, ecommerce is reportedly gettin...</td>\n",
       "      <td>Positive</td>\n",
       "      <td>unsurprisingly ecommerce reportedly getting bi...</td>\n",
       "      <td>1</td>\n",
       "    </tr>\n",
       "  </tbody>\n",
       "</table>\n",
       "</div>\n",
       "      <button class=\"colab-df-convert\" onclick=\"convertToInteractive('df-be690d13-b4c0-42bd-aa01-b7097f3d27f0')\"\n",
       "              title=\"Convert this dataframe to an interactive table.\"\n",
       "              style=\"display:none;\">\n",
       "        \n",
       "  <svg xmlns=\"http://www.w3.org/2000/svg\" height=\"24px\"viewBox=\"0 0 24 24\"\n",
       "       width=\"24px\">\n",
       "    <path d=\"M0 0h24v24H0V0z\" fill=\"none\"/>\n",
       "    <path d=\"M18.56 5.44l.94 2.06.94-2.06 2.06-.94-2.06-.94-.94-2.06-.94 2.06-2.06.94zm-11 1L8.5 8.5l.94-2.06 2.06-.94-2.06-.94L8.5 2.5l-.94 2.06-2.06.94zm10 10l.94 2.06.94-2.06 2.06-.94-2.06-.94-.94-2.06-.94 2.06-2.06.94z\"/><path d=\"M17.41 7.96l-1.37-1.37c-.4-.4-.92-.59-1.43-.59-.52 0-1.04.2-1.43.59L10.3 9.45l-7.72 7.72c-.78.78-.78 2.05 0 2.83L4 21.41c.39.39.9.59 1.41.59.51 0 1.02-.2 1.41-.59l7.78-7.78 2.81-2.81c.8-.78.8-2.07 0-2.86zM5.41 20L4 18.59l7.72-7.72 1.47 1.35L5.41 20z\"/>\n",
       "  </svg>\n",
       "      </button>\n",
       "      \n",
       "  <style>\n",
       "    .colab-df-container {\n",
       "      display:flex;\n",
       "      flex-wrap:wrap;\n",
       "      gap: 12px;\n",
       "    }\n",
       "\n",
       "    .colab-df-convert {\n",
       "      background-color: #E8F0FE;\n",
       "      border: none;\n",
       "      border-radius: 50%;\n",
       "      cursor: pointer;\n",
       "      display: none;\n",
       "      fill: #1967D2;\n",
       "      height: 32px;\n",
       "      padding: 0 0 0 0;\n",
       "      width: 32px;\n",
       "    }\n",
       "\n",
       "    .colab-df-convert:hover {\n",
       "      background-color: #E2EBFA;\n",
       "      box-shadow: 0px 1px 2px rgba(60, 64, 67, 0.3), 0px 1px 3px 1px rgba(60, 64, 67, 0.15);\n",
       "      fill: #174EA6;\n",
       "    }\n",
       "\n",
       "    [theme=dark] .colab-df-convert {\n",
       "      background-color: #3B4455;\n",
       "      fill: #D2E3FC;\n",
       "    }\n",
       "\n",
       "    [theme=dark] .colab-df-convert:hover {\n",
       "      background-color: #434B5C;\n",
       "      box-shadow: 0px 1px 3px 1px rgba(0, 0, 0, 0.15);\n",
       "      filter: drop-shadow(0px 1px 2px rgba(0, 0, 0, 0.3));\n",
       "      fill: #FFFFFF;\n",
       "    }\n",
       "  </style>\n",
       "\n",
       "      <script>\n",
       "        const buttonEl =\n",
       "          document.querySelector('#df-be690d13-b4c0-42bd-aa01-b7097f3d27f0 button.colab-df-convert');\n",
       "        buttonEl.style.display =\n",
       "          google.colab.kernel.accessAllowed ? 'block' : 'none';\n",
       "\n",
       "        async function convertToInteractive(key) {\n",
       "          const element = document.querySelector('#df-be690d13-b4c0-42bd-aa01-b7097f3d27f0');\n",
       "          const dataTable =\n",
       "            await google.colab.kernel.invokeFunction('convertToInteractive',\n",
       "                                                     [key], {});\n",
       "          if (!dataTable) return;\n",
       "\n",
       "          const docLinkHtml = 'Like what you see? Visit the ' +\n",
       "            '<a target=\"_blank\" href=https://colab.research.google.com/notebooks/data_table.ipynb>data table notebook</a>'\n",
       "            + ' to learn more about interactive tables.';\n",
       "          element.innerHTML = '';\n",
       "          dataTable['output_type'] = 'display_data';\n",
       "          await google.colab.output.renderOutput(dataTable, element);\n",
       "          const docLink = document.createElement('div');\n",
       "          docLink.innerHTML = docLinkHtml;\n",
       "          element.appendChild(docLink);\n",
       "        }\n",
       "      </script>\n",
       "    </div>\n",
       "  </div>\n",
       "  "
      ],
      "text/plain": [
       "                                          OriginalTweet Sentiment  \\\n",
       "1264  Show me where the eggs are. That's all I need ...   Neutral   \n",
       "3063  When your local grocery store turns into an MM...  Negative   \n",
       "1680  On the bright side during this #Covid_19 \\r\\r\\...  Positive   \n",
       "3446  Retail employees are at a high risk, any store...  Negative   \n",
       "1927  While I don't like all of Amazon's choices, to...  Positive   \n",
       "2907  One grocery store in Helsinki has appealed to ...  Positive   \n",
       "2226  IÂm about screwed atm with #Covid_19 as Norwa...  Negative   \n",
       "12    Panic food buying in Germany due to #coronavir...  Negative   \n",
       "2121  Possible #Covid_19 impact on food systems in d...  Positive   \n",
       "3409  Unsurprisingly, ecommerce is reportedly gettin...  Positive   \n",
       "\n",
       "                                            clean_tweet  Sentiment coded  \n",
       "1264  show eggs thats need today small grocery store...                0  \n",
       "3063  local grocery store turns mma ring remember gr...                2  \n",
       "1680  bright side covid time spend beloved ones work...                1  \n",
       "3446  retail employees high risk store close due ris...                2  \n",
       "1927  dont like amazons choices today learned toilet...                1  \n",
       "2907  one grocery store helsinki appealed customers ...                1  \n",
       "2226  iâ screwed atm covid norwayâ something lockdow...                2  \n",
       "12    panic food buying germany due coronavirus begu...                2  \n",
       "2121  possible covid impact food systems developing ...                1  \n",
       "3409  unsurprisingly ecommerce reportedly getting bi...                1  "
      ]
     },
     "execution_count": 13,
     "metadata": {},
     "output_type": "execute_result"
    }
   ],
   "source": [
    "test_df['Sentiment coded'] = test_df['Sentiment'].map(lambda x: mapping_dic[x])\n",
    "test_df.sample(10)"
   ]
  },
  {
   "cell_type": "markdown",
   "id": "c7f68e07",
   "metadata": {
    "id": "c7f68e07"
   },
   "source": [
    "<font size=5 color='navy'><b> Ya con los datos limpios y codificados, procedemos a crear nuestros conjuntos 'x' y 'target'."
   ]
  },
  {
   "cell_type": "code",
   "execution_count": 14,
   "id": "e6f7755f",
   "metadata": {
    "id": "e6f7755f"
   },
   "outputs": [],
   "source": [
    "# Define our independent variable and the target\n",
    "train_df['clean_tweet'] = train_df['clean_tweet'].apply(lambda x: x.split())\n",
    "test_df['clean_tweet'] = test_df['clean_tweet'].apply(lambda x: x.split())\n",
    "X_train, y_train = train_df['clean_tweet'], train_df['Sentiment coded']\n",
    "X_test, y_test = test_df['clean_tweet'], test_df['Sentiment coded']"
   ]
  },
  {
   "cell_type": "code",
   "execution_count": 15,
   "id": "63985096",
   "metadata": {
    "colab": {
     "base_uri": "https://localhost:8080/"
    },
    "id": "63985096",
    "outputId": "84f3e094-4de6-4ea6-e7d3-8a16b3415c81"
   },
   "outputs": [
    {
     "name": "stdout",
     "output_type": "stream",
     "text": [
      "'X_train' data:\n",
      "5    [news, regionâ, first, confirmed, covid, case,...\n",
      "6    [cashier, grocery, store, sharing, insights, c...\n",
      "7    [supermarket, today, didnt, buy, toilet, paper...\n",
      "8    [due, covid, retail, store, classroom, atlanta...\n",
      "9    [corona, prevention, stop, buy, things, cash, ...\n",
      "Name: clean_tweet, dtype: object\n",
      "\n",
      "'Y_train' data:\n",
      "5    1\n",
      "6    1\n",
      "7    0\n",
      "8    1\n",
      "9    2\n",
      "Name: Sentiment coded, dtype: int64\n"
     ]
    }
   ],
   "source": [
    "print(\"'X_train' data:\\n{}\\n\".format(X_train[5:10]))\n",
    "print(\"'Y_train' data:\\n{}\".format(y_train[5:10]))"
   ]
  },
  {
   "cell_type": "markdown",
   "id": "1dd674b3",
   "metadata": {
    "id": "1dd674b3"
   },
   "source": [
    "<font size=5 color='navy'><b> 'Tokenizamos' los 'tweets'."
   ]
  },
  {
   "cell_type": "code",
   "execution_count": 16,
   "id": "415021e4",
   "metadata": {
    "colab": {
     "base_uri": "https://localhost:8080/"
    },
    "id": "415021e4",
    "outputId": "00912e33-b745-4bf5-f055-9cd6b5b546f4"
   },
   "outputs": [
    {
     "name": "stdout",
     "output_type": "stream",
     "text": [
      "Vocabulary length:  47448\n"
     ]
    }
   ],
   "source": [
    "# Tokenize the tweet\n",
    "tokenizer = Tokenizer(oov_token='<OOV>')\n",
    "tokenizer.fit_on_texts(X_train)\n",
    "vocab_length = len(tokenizer.word_index) + 1\n",
    "print(\"Vocabulary length: \",vocab_length)"
   ]
  },
  {
   "cell_type": "code",
   "execution_count": 17,
   "id": "369ed0bd",
   "metadata": {
    "id": "369ed0bd"
   },
   "outputs": [],
   "source": [
    "X_train = tokenizer.texts_to_sequences(X_train)\n",
    "X_test = tokenizer.texts_to_sequences(X_test)\n"
   ]
  },
  {
   "cell_type": "code",
   "execution_count": 19,
   "id": "f3adf39c",
   "metadata": {
    "colab": {
     "base_uri": "https://localhost:8080/"
    },
    "id": "f3adf39c",
    "outputId": "e5ca5938-27a6-4f92-a52f-92eb65b9653e"
   },
   "outputs": [
    {
     "name": "stdout",
     "output_type": "stream",
     "text": [
      "Maximum number of words in one tweet: 48 words\n"
     ]
    }
   ],
   "source": [
    "max_word_count = 0\n",
    "word_count = []\n",
    "\n",
    "for encoded_tweet in X_train:\n",
    "    word_count.append(len(encoded_tweet))\n",
    "    if len(encoded_tweet) > max_word_count:\n",
    "        max_word_count = len(encoded_tweet)\n",
    "print(\"Maximum number of words in one tweet: \" + str(max_word_count) + \" words\")"
   ]
  },
  {
   "cell_type": "markdown",
   "id": "dd746a58",
   "metadata": {
    "id": "dd746a58"
   },
   "source": [
    "<font size=5 color='navy'><b> Ajustamos cada palabra para que tengan la misma dimensión mediante el 'padding'."
   ]
  },
  {
   "cell_type": "code",
   "execution_count": 20,
   "id": "91ec4347",
   "metadata": {
    "id": "91ec4347"
   },
   "outputs": [],
   "source": [
    "# Apply padding to the sequences\n",
    "X_train = pad_sequences(X_train, maxlen = max_word_count, padding='post')\n",
    "X_test = pad_sequences(X_test, maxlen = max_word_count, padding='post')"
   ]
  },
  {
   "cell_type": "code",
   "execution_count": 21,
   "id": "687a3301",
   "metadata": {
    "colab": {
     "base_uri": "https://localhost:8080/"
    },
    "id": "687a3301",
    "outputId": "92fb489c-8664-4458-8198-fb2ddfb6ded3"
   },
   "outputs": [
    {
     "name": "stdout",
     "output_type": "stream",
     "text": [
      "X_train: \n",
      " [  360  2675  3935   125   331   753  1588   170   574  2016   452    73\n",
      "   244  2963  5302   702     6 10582    57     2  5589     0     0     0\n",
      "     0     0     0     0     0     0     0     0     0     0     0     0\n",
      "     0     0     0     0     0     0     0     0     0     0     0     0]\n",
      "\n",
      "X_test: \n",
      " [  204  1374 17640 10173   130     4   162   149 45102  4716   455  2447\n",
      "     1 22285     2 16332 18352     0     0     0     0     0     0     0\n",
      "     0     0     0     0     0     0     0     0     0     0     0     0\n",
      "     0     0     0     0     0     0     0     0     0     0     0     0]\n"
     ]
    }
   ],
   "source": [
    "print(\"X_train: \\n {}\\n\".format(X_train[10]))\n",
    "print(\"X_test: \\n {}\".format(X_test[10]))"
   ]
  },
  {
   "cell_type": "markdown",
   "id": "3e812526",
   "metadata": {
    "id": "3e812526"
   },
   "source": [
    "<font size=5 color='navy'><b> Y aplicamos 'one-hot-encoding' a nuestro 'target'."
   ]
  },
  {
   "cell_type": "code",
   "execution_count": 22,
   "id": "006aa5f7",
   "metadata": {
    "id": "006aa5f7"
   },
   "outputs": [],
   "source": [
    "# Apply one-hot-encoding to the sentiment \n",
    "Y_train = one_hot(indices=y_train, depth=3)\n",
    "Y_test = one_hot(indices=y_test, depth=3)"
   ]
  },
  {
   "cell_type": "code",
   "execution_count": 23,
   "id": "127ad822",
   "metadata": {
    "colab": {
     "base_uri": "https://localhost:8080/"
    },
    "id": "127ad822",
    "outputId": "5e807e6a-e7c6-4bc0-a8e3-13bbe71ed7f0"
   },
   "outputs": [
    {
     "name": "stdout",
     "output_type": "stream",
     "text": [
      "Y_train:\n",
      "[[1. 0. 0.]\n",
      " [0. 1. 0.]\n",
      " [0. 1. 0.]\n",
      " [0. 1. 0.]\n",
      " [0. 0. 1.]\n",
      " [0. 1. 0.]\n",
      " [0. 1. 0.]\n",
      " [1. 0. 0.]\n",
      " [0. 1. 0.]\n",
      " [0. 0. 1.]]\n"
     ]
    }
   ],
   "source": [
    "print('Y_train:\\n{}'.format(Y_train[:10]))\n",
    "#print('Y_test:\\n {}\\n'.format(y_test[:5], Y_test[:5]))"
   ]
  },
  {
   "cell_type": "markdown",
   "id": "d34ccbf7",
   "metadata": {
    "id": "d34ccbf7"
   },
   "source": [
    "<font size=6 color='Steelblue'><center><b> \n",
    "    Model Deployment"
   ]
  },
  {
   "cell_type": "markdown",
   "id": "00e2479c",
   "metadata": {
    "id": "00e2479c"
   },
   "source": [
    "<font size=5 color='navy'><b> Utilizaremos una arquitectura LSTM para desarrollar nuestro modelo."
   ]
  },
  {
   "cell_type": "code",
   "execution_count": 30,
   "id": "d245d9ac",
   "metadata": {
    "id": "d245d9ac"
   },
   "outputs": [],
   "source": [
    "import tensorflow as tf\n",
    "from tensorflow.keras.layers import LSTM, Embedding, GlobalAvgPool1D, Dense, Dropout\n",
    "from tensorflow.keras.models import Sequential\n",
    "from tensorflow.keras.callbacks import EarlyStopping\n",
    "from tensorflow.keras.utils import plot_model\n",
    "from tensorflow.keras.optimizers import Adam, RMSprop\n",
    "from tensorboard.plugins.hparams import api as hp"
   ]
  },
  {
   "cell_type": "markdown",
   "id": "drGVKUCxlGX9",
   "metadata": {
    "id": "drGVKUCxlGX9"
   },
   "source": [
    "<font size=5 color='navy'><b> Para determinar los hiperparámetros adecuados nos apoyaremos en la herramienta 'Tensorboard', la cual nos permite aplicar el método de 'Grid Search', mismo que consiste en realizar un breve entrenamiento para cada conjunto de hiperparámeros y una vez hecho lo anterior evalúa la precisión de cada grupo de hiperparámetros en el conjunto de prueba."
   ]
  },
  {
   "cell_type": "code",
   "execution_count": 24,
   "id": "f42fa878",
   "metadata": {
    "id": "f42fa878"
   },
   "outputs": [],
   "source": [
    "# Load tensorboard extension\n",
    "%load_ext tensorboard"
   ]
  },
  {
   "cell_type": "code",
   "execution_count": 25,
   "id": "52a3d8b7",
   "metadata": {
    "id": "52a3d8b7"
   },
   "outputs": [],
   "source": [
    "# Clean any previous session\n",
    "!rm -rf ./logs/"
   ]
  },
  {
   "cell_type": "code",
   "execution_count": 26,
   "id": "88ccdf76",
   "metadata": {
    "id": "88ccdf76"
   },
   "outputs": [],
   "source": [
    "# Define the hyperparameters to set\n",
    "HP_NUM_UNITS = hp.HParam('num_units', hp.Discrete([32,64,128]))\n",
    "HP_DROPOUT = hp.HParam('dropout', hp.Discrete([0.1,0.2]))\n",
    "HP_OPTIMIZER = hp.HParam('optimizer', hp.Discrete(['adam', 'RMSprop']))\n",
    "HP_LEARNINGRATE= hp.HParam('learning_rate', hp.Discrete([0.0001,0.001]))\n",
    "HP_ACTIVATION =  hp.HParam('activation', hp.Discrete(['selu','relu']))\n",
    "\n",
    "METRIC_ACCURACY = 'accuracy'\n",
    "\n",
    "with tf.summary.create_file_writer('logs/hparam_tuning').as_default():\n",
    "      hp.hparams_config(\n",
    "        hparams=[HP_NUM_UNITS, HP_DROPOUT, HP_OPTIMIZER, HP_LEARNINGRATE, HP_ACTIVATION],\n",
    "        metrics=[hp.Metric(METRIC_ACCURACY, display_name='Accuracy')],\n",
    "      )"
   ]
  },
  {
   "cell_type": "code",
   "execution_count": 25,
   "id": "06591c3b",
   "metadata": {
    "id": "06591c3b"
   },
   "outputs": [],
   "source": [
    "# Build the model architecure\n",
    "def architecture(vocab_length,max_word_count,units,p_drop,activation):\n",
    "    Model = Sequential()\n",
    "    Model.add(Embedding(input_dim=vocab_length, input_length = max_word_count, output_dim=32))\n",
    "    Model.add(LSTM(128, dropout=p_drop))\n",
    "    Model.add(Dense(units, activation=activation))\n",
    "    Model.add(Dropout(p_drop))\n",
    "    Model.add(Dense(units/2, activation=activation))\n",
    "    Model.add(Dropout(p_drop))\n",
    "    Model.add(Dense(units/4, activation=activation))\n",
    "    Model.add(Dropout(p_drop))\n",
    "    Model.add(Dense(3, activation='softmax'))\n",
    "    return Model"
   ]
  },
  {
   "cell_type": "code",
   "execution_count": 28,
   "id": "4e33138b",
   "metadata": {
    "id": "4e33138b"
   },
   "outputs": [],
   "source": [
    "# Create the 'Grid Search' model for hyperparameters\n",
    "def train_test_model(hparams):\n",
    "\n",
    "    model=architecture(vocab_length, max_word_count, \n",
    "                       p_drop=hparams[HP_DROPOUT], units=hparams[HP_NUM_UNITS], activation=hparams[HP_ACTIVATION])\n",
    "    model.compile(\n",
    "          optimizer=hparams[HP_OPTIMIZER],\n",
    "          loss='categorical_crossentropy',\n",
    "          metrics=['accuracy']\n",
    "      )\n",
    "    model.optimizer.learning_rate=hparams[HP_LEARNINGRATE]\n",
    "    model.fit(X_train, Y_train, epochs = 5, batch_size = 32, \\\n",
    "                                validation_split = 0.1, shuffle=True, verbose=0) # Run with 5 epoch to speed things up for demo purposes\n",
    "    _, accuracy = model.evaluate(X_test,Y_test)\n",
    "    return accuracy"
   ]
  },
  {
   "cell_type": "code",
   "execution_count": 29,
   "id": "bfbf6945",
   "metadata": {
    "id": "bfbf6945"
   },
   "outputs": [],
   "source": [
    "# Record the values found in each run\n",
    "def training(run_dir, hparams):\n",
    "    with tf.summary.create_file_writer(run_dir).as_default():\n",
    "        hp.hparams(hparams)  # record the values used in this trial\n",
    "        accuracy = train_test_model(hparams)\n",
    "        tf.summary.scalar(METRIC_ACCURACY, accuracy, step=1)"
   ]
  },
  {
   "cell_type": "code",
   "execution_count": 30,
   "id": "1f824a45",
   "metadata": {
    "colab": {
     "base_uri": "https://localhost:8080/"
    },
    "id": "1f824a45",
    "outputId": "9a92da57-808f-4842-f608-21be210de56c"
   },
   "outputs": [
    {
     "name": "stdout",
     "output_type": "stream",
     "text": [
      "--- Starting trial: run-0\n",
      "{'num_units': 32, 'dropout': 0.1, 'optimizer': 'RMSprop', 'learning_rate': 0.0001, 'activation': 'relu'}\n",
      "119/119 [==============================] - 0s 4ms/step - loss: 0.7945 - accuracy: 0.6353\n",
      "--- Starting trial: run-1\n",
      "{'num_units': 32, 'dropout': 0.1, 'optimizer': 'RMSprop', 'learning_rate': 0.0001, 'activation': 'selu'}\n",
      "119/119 [==============================] - 1s 4ms/step - loss: 0.7376 - accuracy: 0.6785\n",
      "--- Starting trial: run-2\n",
      "{'num_units': 32, 'dropout': 0.1, 'optimizer': 'RMSprop', 'learning_rate': 0.001, 'activation': 'relu'}\n",
      "119/119 [==============================] - 0s 4ms/step - loss: 0.6689 - accuracy: 0.7209\n",
      "--- Starting trial: run-3\n",
      "{'num_units': 32, 'dropout': 0.1, 'optimizer': 'RMSprop', 'learning_rate': 0.001, 'activation': 'selu'}\n",
      "119/119 [==============================] - 0s 4ms/step - loss: 0.5568 - accuracy: 0.8017\n",
      "--- Starting trial: run-4\n",
      "{'num_units': 32, 'dropout': 0.1, 'optimizer': 'adam', 'learning_rate': 0.0001, 'activation': 'relu'}\n",
      "119/119 [==============================] - 0s 4ms/step - loss: 0.6470 - accuracy: 0.7378\n",
      "--- Starting trial: run-5\n",
      "{'num_units': 32, 'dropout': 0.1, 'optimizer': 'adam', 'learning_rate': 0.0001, 'activation': 'selu'}\n",
      "119/119 [==============================] - 0s 4ms/step - loss: 0.6016 - accuracy: 0.7804\n",
      "--- Starting trial: run-6\n",
      "{'num_units': 32, 'dropout': 0.1, 'optimizer': 'adam', 'learning_rate': 0.001, 'activation': 'relu'}\n",
      "119/119 [==============================] - 0s 4ms/step - loss: 0.6490 - accuracy: 0.7815\n",
      "--- Starting trial: run-7\n",
      "{'num_units': 32, 'dropout': 0.1, 'optimizer': 'adam', 'learning_rate': 0.001, 'activation': 'selu'}\n",
      "119/119 [==============================] - 0s 4ms/step - loss: 0.5955 - accuracy: 0.8062\n",
      "--- Starting trial: run-8\n",
      "{'num_units': 32, 'dropout': 0.2, 'optimizer': 'RMSprop', 'learning_rate': 0.0001, 'activation': 'relu'}\n",
      "119/119 [==============================] - 1s 4ms/step - loss: 0.7804 - accuracy: 0.6506\n",
      "--- Starting trial: run-9\n",
      "{'num_units': 32, 'dropout': 0.2, 'optimizer': 'RMSprop', 'learning_rate': 0.0001, 'activation': 'selu'}\n",
      "119/119 [==============================] - 0s 4ms/step - loss: 0.7007 - accuracy: 0.6948\n",
      "--- Starting trial: run-10\n",
      "{'num_units': 32, 'dropout': 0.2, 'optimizer': 'RMSprop', 'learning_rate': 0.001, 'activation': 'relu'}\n",
      "119/119 [==============================] - 1s 4ms/step - loss: 0.5474 - accuracy: 0.8009\n",
      "--- Starting trial: run-11\n",
      "{'num_units': 32, 'dropout': 0.2, 'optimizer': 'RMSprop', 'learning_rate': 0.001, 'activation': 'selu'}\n",
      "119/119 [==============================] - 0s 4ms/step - loss: 0.5595 - accuracy: 0.8138\n",
      "--- Starting trial: run-12\n",
      "{'num_units': 32, 'dropout': 0.2, 'optimizer': 'adam', 'learning_rate': 0.0001, 'activation': 'relu'}\n",
      "119/119 [==============================] - 0s 4ms/step - loss: 0.6722 - accuracy: 0.7054\n",
      "--- Starting trial: run-13\n",
      "{'num_units': 32, 'dropout': 0.2, 'optimizer': 'adam', 'learning_rate': 0.0001, 'activation': 'selu'}\n",
      "119/119 [==============================] - 0s 4ms/step - loss: 0.5798 - accuracy: 0.7804\n",
      "--- Starting trial: run-14\n",
      "{'num_units': 32, 'dropout': 0.2, 'optimizer': 'adam', 'learning_rate': 0.001, 'activation': 'relu'}\n",
      "119/119 [==============================] - 0s 4ms/step - loss: 1.0308 - accuracy: 0.4071\n",
      "--- Starting trial: run-15\n",
      "{'num_units': 32, 'dropout': 0.2, 'optimizer': 'adam', 'learning_rate': 0.001, 'activation': 'selu'}\n",
      "119/119 [==============================] - 0s 4ms/step - loss: 0.5627 - accuracy: 0.8149\n",
      "--- Starting trial: run-16\n",
      "{'num_units': 64, 'dropout': 0.1, 'optimizer': 'RMSprop', 'learning_rate': 0.0001, 'activation': 'relu'}\n",
      "119/119 [==============================] - 0s 4ms/step - loss: 0.8152 - accuracy: 0.6282\n",
      "--- Starting trial: run-17\n",
      "{'num_units': 64, 'dropout': 0.1, 'optimizer': 'RMSprop', 'learning_rate': 0.0001, 'activation': 'selu'}\n",
      "119/119 [==============================] - 0s 4ms/step - loss: 0.6521 - accuracy: 0.7301\n",
      "--- Starting trial: run-18\n",
      "{'num_units': 64, 'dropout': 0.1, 'optimizer': 'RMSprop', 'learning_rate': 0.001, 'activation': 'relu'}\n",
      "119/119 [==============================] - 1s 4ms/step - loss: 0.5782 - accuracy: 0.7899\n",
      "--- Starting trial: run-19\n",
      "{'num_units': 64, 'dropout': 0.1, 'optimizer': 'RMSprop', 'learning_rate': 0.001, 'activation': 'selu'}\n",
      "119/119 [==============================] - 0s 4ms/step - loss: 0.6006 - accuracy: 0.7959\n",
      "--- Starting trial: run-20\n",
      "{'num_units': 64, 'dropout': 0.1, 'optimizer': 'adam', 'learning_rate': 0.0001, 'activation': 'relu'}\n",
      "119/119 [==============================] - 0s 4ms/step - loss: 0.7897 - accuracy: 0.6438\n",
      "--- Starting trial: run-21\n",
      "{'num_units': 64, 'dropout': 0.1, 'optimizer': 'adam', 'learning_rate': 0.0001, 'activation': 'selu'}\n",
      "119/119 [==============================] - 0s 4ms/step - loss: 0.5860 - accuracy: 0.7794\n",
      "--- Starting trial: run-22\n",
      "{'num_units': 64, 'dropout': 0.1, 'optimizer': 'adam', 'learning_rate': 0.001, 'activation': 'relu'}\n",
      "119/119 [==============================] - 0s 4ms/step - loss: 0.6527 - accuracy: 0.8110\n",
      "--- Starting trial: run-23\n",
      "{'num_units': 64, 'dropout': 0.1, 'optimizer': 'adam', 'learning_rate': 0.001, 'activation': 'selu'}\n",
      "119/119 [==============================] - 1s 4ms/step - loss: 0.5829 - accuracy: 0.8131\n",
      "--- Starting trial: run-24\n",
      "{'num_units': 64, 'dropout': 0.2, 'optimizer': 'RMSprop', 'learning_rate': 0.0001, 'activation': 'relu'}\n",
      "119/119 [==============================] - 0s 4ms/step - loss: 0.8585 - accuracy: 0.5935\n",
      "--- Starting trial: run-25\n",
      "{'num_units': 64, 'dropout': 0.2, 'optimizer': 'RMSprop', 'learning_rate': 0.0001, 'activation': 'selu'}\n",
      "119/119 [==============================] - 1s 4ms/step - loss: 0.6635 - accuracy: 0.7196\n",
      "--- Starting trial: run-26\n",
      "{'num_units': 64, 'dropout': 0.2, 'optimizer': 'RMSprop', 'learning_rate': 0.001, 'activation': 'relu'}\n",
      "119/119 [==============================] - 0s 4ms/step - loss: 0.5341 - accuracy: 0.8136\n",
      "--- Starting trial: run-27\n",
      "{'num_units': 64, 'dropout': 0.2, 'optimizer': 'RMSprop', 'learning_rate': 0.001, 'activation': 'selu'}\n",
      "119/119 [==============================] - 0s 4ms/step - loss: 0.5845 - accuracy: 0.8078\n",
      "--- Starting trial: run-28\n",
      "{'num_units': 64, 'dropout': 0.2, 'optimizer': 'adam', 'learning_rate': 0.0001, 'activation': 'relu'}\n",
      "119/119 [==============================] - 0s 4ms/step - loss: 0.8112 - accuracy: 0.6388\n",
      "--- Starting trial: run-29\n",
      "{'num_units': 64, 'dropout': 0.2, 'optimizer': 'adam', 'learning_rate': 0.0001, 'activation': 'selu'}\n",
      "119/119 [==============================] - 0s 4ms/step - loss: 0.5781 - accuracy: 0.7815\n",
      "--- Starting trial: run-30\n",
      "{'num_units': 64, 'dropout': 0.2, 'optimizer': 'adam', 'learning_rate': 0.001, 'activation': 'relu'}\n",
      "119/119 [==============================] - 0s 4ms/step - loss: 0.5521 - accuracy: 0.7959\n",
      "--- Starting trial: run-31\n",
      "{'num_units': 64, 'dropout': 0.2, 'optimizer': 'adam', 'learning_rate': 0.001, 'activation': 'selu'}\n",
      "119/119 [==============================] - 0s 4ms/step - loss: 0.5896 - accuracy: 0.8210\n",
      "--- Starting trial: run-32\n",
      "{'num_units': 128, 'dropout': 0.1, 'optimizer': 'RMSprop', 'learning_rate': 0.0001, 'activation': 'relu'}\n",
      "119/119 [==============================] - 0s 4ms/step - loss: 0.8097 - accuracy: 0.6266\n",
      "--- Starting trial: run-33\n",
      "{'num_units': 128, 'dropout': 0.1, 'optimizer': 'RMSprop', 'learning_rate': 0.0001, 'activation': 'selu'}\n",
      "119/119 [==============================] - 0s 4ms/step - loss: 0.6389 - accuracy: 0.7364\n",
      "--- Starting trial: run-34\n",
      "{'num_units': 128, 'dropout': 0.1, 'optimizer': 'RMSprop', 'learning_rate': 0.001, 'activation': 'relu'}\n",
      "119/119 [==============================] - 0s 4ms/step - loss: 0.5510 - accuracy: 0.8036\n",
      "--- Starting trial: run-35\n",
      "{'num_units': 128, 'dropout': 0.1, 'optimizer': 'RMSprop', 'learning_rate': 0.001, 'activation': 'selu'}\n",
      "119/119 [==============================] - 0s 4ms/step - loss: 0.5247 - accuracy: 0.8146\n",
      "--- Starting trial: run-36\n",
      "{'num_units': 128, 'dropout': 0.1, 'optimizer': 'adam', 'learning_rate': 0.0001, 'activation': 'relu'}\n",
      "119/119 [==============================] - 0s 4ms/step - loss: 0.7944 - accuracy: 0.6448\n",
      "--- Starting trial: run-37\n",
      "{'num_units': 128, 'dropout': 0.1, 'optimizer': 'adam', 'learning_rate': 0.0001, 'activation': 'selu'}\n",
      "119/119 [==============================] - 1s 4ms/step - loss: 0.8107 - accuracy: 0.6840\n",
      "--- Starting trial: run-38\n",
      "{'num_units': 128, 'dropout': 0.1, 'optimizer': 'adam', 'learning_rate': 0.001, 'activation': 'relu'}\n",
      "119/119 [==============================] - 0s 4ms/step - loss: 0.6479 - accuracy: 0.8017\n",
      "--- Starting trial: run-39\n",
      "{'num_units': 128, 'dropout': 0.1, 'optimizer': 'adam', 'learning_rate': 0.001, 'activation': 'selu'}\n",
      "119/119 [==============================] - 0s 4ms/step - loss: 0.6335 - accuracy: 0.8067\n",
      "--- Starting trial: run-40\n",
      "{'num_units': 128, 'dropout': 0.2, 'optimizer': 'RMSprop', 'learning_rate': 0.0001, 'activation': 'relu'}\n",
      "119/119 [==============================] - 0s 4ms/step - loss: 0.7978 - accuracy: 0.6367\n",
      "--- Starting trial: run-41\n",
      "{'num_units': 128, 'dropout': 0.2, 'optimizer': 'RMSprop', 'learning_rate': 0.0001, 'activation': 'selu'}\n",
      "119/119 [==============================] - 0s 4ms/step - loss: 0.6424 - accuracy: 0.7314\n",
      "--- Starting trial: run-42\n",
      "{'num_units': 128, 'dropout': 0.2, 'optimizer': 'RMSprop', 'learning_rate': 0.001, 'activation': 'relu'}\n",
      "119/119 [==============================] - 0s 4ms/step - loss: 0.5232 - accuracy: 0.8170\n",
      "--- Starting trial: run-43\n",
      "{'num_units': 128, 'dropout': 0.2, 'optimizer': 'RMSprop', 'learning_rate': 0.001, 'activation': 'selu'}\n",
      "119/119 [==============================] - 0s 4ms/step - loss: 0.5577 - accuracy: 0.7962\n",
      "--- Starting trial: run-44\n",
      "{'num_units': 128, 'dropout': 0.2, 'optimizer': 'adam', 'learning_rate': 0.0001, 'activation': 'relu'}\n",
      "119/119 [==============================] - 0s 4ms/step - loss: 0.7902 - accuracy: 0.6406\n",
      "--- Starting trial: run-45\n",
      "{'num_units': 128, 'dropout': 0.2, 'optimizer': 'adam', 'learning_rate': 0.0001, 'activation': 'selu'}\n",
      "119/119 [==============================] - 0s 4ms/step - loss: 0.5753 - accuracy: 0.7775\n",
      "--- Starting trial: run-46\n",
      "{'num_units': 128, 'dropout': 0.2, 'optimizer': 'adam', 'learning_rate': 0.001, 'activation': 'relu'}\n",
      "119/119 [==============================] - 0s 4ms/step - loss: 0.5769 - accuracy: 0.8123\n",
      "--- Starting trial: run-47\n",
      "{'num_units': 128, 'dropout': 0.2, 'optimizer': 'adam', 'learning_rate': 0.001, 'activation': 'selu'}\n",
      "119/119 [==============================] - 1s 4ms/step - loss: 0.9728 - accuracy: 0.5058\n"
     ]
    }
   ],
   "source": [
    "from collections import OrderedDict, namedtuple\n",
    "from itertools import product\n",
    "session_num = 0\n",
    "\n",
    "#Create the architecture of the RunBulider with all the hyperparamters to test\n",
    "class RunBuilder():\n",
    "    @staticmethod\n",
    "    def get_runs(params):\n",
    "        Run=namedtuple('Run', params.keys())\n",
    "\n",
    "        runs=[]\n",
    "\n",
    "        for v in product(*params.values()):\n",
    "            runs.append(Run(*v))\n",
    "\n",
    "        return runs\n",
    "    \n",
    "params=OrderedDict(\n",
    "        num_units=[num_units for num_units in HP_NUM_UNITS.domain.values],\n",
    "        p_drop=[dropout_rate for dropout_rate in (HP_DROPOUT.domain.values)],\n",
    "        optim=[optimizer for optimizer in HP_OPTIMIZER.domain.values],\n",
    "        lr=[lr for lr in HP_LEARNINGRATE.domain.values],\n",
    "        activation=[activation for activation in HP_ACTIVATION.domain.values]\n",
    "    )\n",
    "\n",
    "for run in RunBuilder().get_runs(params):\n",
    "    hparams = {\n",
    "          HP_NUM_UNITS: run.num_units,\n",
    "          HP_DROPOUT: run.p_drop,\n",
    "          HP_OPTIMIZER: run.optim,\n",
    "          HP_LEARNINGRATE: run.lr,\n",
    "          HP_ACTIVATION: run.activation\n",
    "      }\n",
    "    run_name = \"run-%d\" % session_num\n",
    "    print('--- Starting trial: %s' % run_name)\n",
    "    print({h.name: hparams[h] for h in hparams})\n",
    "    training('logs/hparam_tuning/' + run_name, hparams)\n",
    "    session_num += 1"
   ]
  },
  {
   "cell_type": "code",
   "execution_count": 31,
   "id": "NhV6wR4T_SGZ",
   "metadata": {
    "colab": {
     "base_uri": "https://localhost:8080/",
     "height": 821
    },
    "id": "NhV6wR4T_SGZ",
    "outputId": "bfcd6105-5302-42bf-e4e3-eeeee8a43c41"
   },
   "outputs": [
    {
     "data": {
      "application/javascript": [
       "\n",
       "        (async () => {\n",
       "            const url = new URL(await google.colab.kernel.proxyPort(6006, {'cache': true}));\n",
       "            url.searchParams.set('tensorboardColab', 'true');\n",
       "            const iframe = document.createElement('iframe');\n",
       "            iframe.src = url;\n",
       "            iframe.setAttribute('width', '100%');\n",
       "            iframe.setAttribute('height', '800');\n",
       "            iframe.setAttribute('frameborder', 0);\n",
       "            document.body.appendChild(iframe);\n",
       "        })();\n",
       "    "
      ],
      "text/plain": [
       "<IPython.core.display.Javascript object>"
      ]
     },
     "metadata": {},
     "output_type": "display_data"
    }
   ],
   "source": [
    "# Display in thesorboard the statistics and graphs for each run\n",
    "%tensorboard --logdir logs/hparam_tuning"
   ]
  },
  {
   "cell_type": "markdown",
   "id": "H33p81T7A3Qw",
   "metadata": {
    "id": "H33p81T7A3Qw"
   },
   "source": [
    "<font size=5 color='navy'><b> Vemos que dentro de los parámetros con los que se hizo la prueba, la corrida 31 fue la que mayor efectividad dio, con una precisión del 82.1%, por lo que realizaremos un entrenamiento completo con estos hiperparámetros."
   ]
  },
  {
   "cell_type": "code",
   "execution_count": 26,
   "id": "83cc9778",
   "metadata": {
    "id": "83cc9778"
   },
   "outputs": [],
   "source": [
    "best_model = architecture(vocab_length,max_word_count,units=64,p_drop=0.2,activation='selu')"
   ]
  },
  {
   "cell_type": "code",
   "execution_count": 27,
   "id": "2nbtlAjCAciI",
   "metadata": {
    "colab": {
     "base_uri": "https://localhost:8080/",
     "height": 1000
    },
    "id": "2nbtlAjCAciI",
    "outputId": "b8110f58-6c2b-422b-f812-37e89bc77c48"
   },
   "outputs": [
    {
     "data": {
      "image/png": "[encoded data removed]",
      "text/plain": [
       "<IPython.core.display.Image object>"
      ]
     },
     "execution_count": 27,
     "metadata": {},
     "output_type": "execute_result"
    }
   ],
   "source": [
    "plot_model(best_model, to_file='best_model.png', show_shapes=True, rankdir='TB', show_layer_names=True)"
   ]
  },
  {
   "cell_type": "code",
   "execution_count": 28,
   "id": "hB_rBdvnAceC",
   "metadata": {
    "colab": {
     "base_uri": "https://localhost:8080/"
    },
    "id": "hB_rBdvnAceC",
    "outputId": "bcc9519e-c68f-4ee5-99a2-ec5e1aa175eb"
   },
   "outputs": [
    {
     "name": "stdout",
     "output_type": "stream",
     "text": [
      "Model: \"sequential\"\n",
      "_________________________________________________________________\n",
      " Layer (type)                Output Shape              Param #   \n",
      "=================================================================\n",
      " embedding (Embedding)       (None, 48, 32)            1518336   \n",
      "                                                                 \n",
      " lstm (LSTM)                 (None, 128)               82432     \n",
      "                                                                 \n",
      " dense (Dense)               (None, 64)                8256      \n",
      "                                                                 \n",
      " dropout (Dropout)           (None, 64)                0         \n",
      "                                                                 \n",
      " dense_1 (Dense)             (None, 32)                2080      \n",
      "                                                                 \n",
      " dropout_1 (Dropout)         (None, 32)                0         \n",
      "                                                                 \n",
      " dense_2 (Dense)             (None, 16)                528       \n",
      "                                                                 \n",
      " dropout_2 (Dropout)         (None, 16)                0         \n",
      "                                                                 \n",
      " dense_3 (Dense)             (None, 3)                 51        \n",
      "                                                                 \n",
      "=================================================================\n",
      "Total params: 1,611,683\n",
      "Trainable params: 1,611,683\n",
      "Non-trainable params: 0\n",
      "_________________________________________________________________\n"
     ]
    }
   ],
   "source": [
    "best_model.summary()"
   ]
  },
  {
   "cell_type": "markdown",
   "id": "fVQrucq6fPn8",
   "metadata": {
    "id": "fVQrucq6fPn8"
   },
   "source": [
    "<font size=5 color='navy'><b>\n",
    "Ahora, seleccionamos el 'learning_rate' como 0.001 y 'Adam' como nuestro optimizador."
   ]
  },
  {
   "cell_type": "code",
   "execution_count": 31,
   "id": "8u026feKRXZC",
   "metadata": {
    "id": "8u026feKRXZC"
   },
   "outputs": [],
   "source": [
    "learning_rate = 0.001\n",
    "\n",
    "optimizer = tf.keras.optimizers.Adam(learning_rate=learning_rate)"
   ]
  },
  {
   "cell_type": "markdown",
   "id": "3381ca37",
   "metadata": {},
   "source": [
    "<font size=5 color='navy'><b> Definimos la función de pérdida y la métrica."
   ]
  },
  {
   "cell_type": "code",
   "execution_count": 32,
   "id": "wvN0gAnQRXVQ",
   "metadata": {
    "id": "wvN0gAnQRXVQ"
   },
   "outputs": [],
   "source": [
    "loss_function = 'categorical_crossentropy'\n",
    "metric_function = 'accuracy'"
   ]
  },
  {
   "cell_type": "markdown",
   "id": "bSWijfMXnRLt",
   "metadata": {
    "id": "bSWijfMXnRLt"
   },
   "source": [
    "<font size=5 color='navy'><b> Definimos como 'callback' un 'Early Stopping' que detendrá el entrenamiento si en 5 épocas la 'validation_accuracy' no mejora."
   ]
  },
  {
   "cell_type": "code",
   "execution_count": 33,
   "id": "qAsXMoniRXPx",
   "metadata": {
    "id": "qAsXMoniRXPx"
   },
   "outputs": [],
   "source": [
    "es = EarlyStopping(patience=5, monitor='val_accuracy',restore_best_weights=True)"
   ]
  },
  {
   "cell_type": "markdown",
   "id": "3UR6TD0lfsO-",
   "metadata": {
    "id": "3UR6TD0lfsO-"
   },
   "source": [
    "<font size=5 color='navy'><b>\n",
    "Compilamos y realizamos el entrenamiento completo de 30 épocas."
   ]
  },
  {
   "cell_type": "code",
   "execution_count": null,
   "id": "5baeae4a",
   "metadata": {},
   "outputs": [],
   "source": [
    "best_model.compile(optimizer = optimizer, loss = loss_function, metrics = [metric_function])"
   ]
  },
  {
   "cell_type": "markdown",
   "id": "QCwhxZApnywI",
   "metadata": {
    "id": "QCwhxZApnywI"
   },
   "source": [
    "<font size=5 color='navy'><b> Y ya con todo listo, realizamos un entrenamiento completo."
   ]
  },
  {
   "cell_type": "code",
   "execution_count": 34,
   "id": "_1zJwfCeQSxe",
   "metadata": {
    "colab": {
     "base_uri": "https://localhost:8080/"
    },
    "id": "_1zJwfCeQSxe",
    "outputId": "4db652ea-2447-4577-b495-6438548f6275"
   },
   "outputs": [
    {
     "name": "stdout",
     "output_type": "stream",
     "text": [
      "Epoch 1/30\n",
      "579/579 [==============================] - 9s 9ms/step - loss: 0.9586 - accuracy: 0.5044 - val_loss: 0.7806 - val_accuracy: 0.6232\n",
      "Epoch 2/30\n",
      "579/579 [==============================] - 5s 8ms/step - loss: 0.5829 - accuracy: 0.7806 - val_loss: 0.4972 - val_accuracy: 0.8231\n",
      "Epoch 3/30\n",
      "579/579 [==============================] - 5s 8ms/step - loss: 0.3422 - accuracy: 0.8910 - val_loss: 0.4908 - val_accuracy: 0.8316\n",
      "Epoch 4/30\n",
      "579/579 [==============================] - 5s 8ms/step - loss: 0.2454 - accuracy: 0.9269 - val_loss: 0.5440 - val_accuracy: 0.8375\n",
      "Epoch 5/30\n",
      "579/579 [==============================] - 5s 8ms/step - loss: 0.1989 - accuracy: 0.9410 - val_loss: 0.6280 - val_accuracy: 0.8154\n",
      "Epoch 6/30\n",
      "579/579 [==============================] - 5s 8ms/step - loss: 0.1731 - accuracy: 0.9505 - val_loss: 0.6178 - val_accuracy: 0.8168\n",
      "Epoch 7/30\n",
      "579/579 [==============================] - 5s 8ms/step - loss: 0.1491 - accuracy: 0.9570 - val_loss: 0.6816 - val_accuracy: 0.8086\n",
      "Epoch 8/30\n",
      "579/579 [==============================] - 5s 8ms/step - loss: 0.1302 - accuracy: 0.9635 - val_loss: 0.7260 - val_accuracy: 0.7969\n",
      "Epoch 9/30\n",
      "579/579 [==============================] - 5s 8ms/step - loss: 0.1125 - accuracy: 0.9674 - val_loss: 0.8401 - val_accuracy: 0.8000\n",
      "Time for training:    46.8547s\n"
     ]
    }
   ],
   "source": [
    "# Make a complete training with the best hyperparameters found\n",
    "start_time = time.time()\n",
    "\n",
    "validation_portion = 0.1\n",
    "batch_size=64\n",
    "num_epochs = 30\n",
    "\n",
    "history = best_model.fit(x=X_train, y=Y_train, epochs=num_epochs, batch_size=batch_size, \\\n",
    "                            validation_split=validation_portion, shuffle=True,\n",
    "                            callbacks=[es], verbose=1)\n",
    "\n",
    "end_time = time.time()\n",
    "print(\"Time for training: {:10.4f}s\".format(end_time - start_time))"
   ]
  },
  {
   "cell_type": "markdown",
   "id": "VmE_V-AqK4hZ",
   "metadata": {
    "id": "VmE_V-AqK4hZ"
   },
   "source": [
    "<font size=5 color='navy'><b> Notamos que el entrenamiento se detuvo en la novena época debido al 'EarlyStopping', por lo que el modelo empezaba a tener 'overfitting', graficamos la pérdida y la precisión para constatar lo predicho."
   ]
  },
  {
   "cell_type": "code",
   "execution_count": 35,
   "id": "Cr0BCf-pQXZS",
   "metadata": {
    "colab": {
     "base_uri": "https://localhost:8080/",
     "height": 295
    },
    "id": "Cr0BCf-pQXZS",
    "outputId": "579c99ea-62d4-4c81-dffe-0b53825c72b8"
   },
   "outputs": [
    {
     "data": {
      "image/png": "[encoded data removed]",
      "text/plain": [
       "<Figure size 432x288 with 1 Axes>"
      ]
     },
     "metadata": {
      "needs_background": "light"
     },
     "output_type": "display_data"
    }
   ],
   "source": [
    "plt.plot(history.history['loss'])\n",
    "plt.plot(history.history['val_loss'])\n",
    "plt.title('Train and Validation Cost per Epoch')\n",
    "plt.ylabel('Cost')\n",
    "plt.xlabel('Epoch')\n",
    "plt.legend(['Train', 'Validation'], loc='upper right')\n",
    "plt.show()"
   ]
  },
  {
   "cell_type": "code",
   "execution_count": 36,
   "id": "Ir6R38EahcYB",
   "metadata": {
    "colab": {
     "base_uri": "https://localhost:8080/",
     "height": 295
    },
    "id": "Ir6R38EahcYB",
    "outputId": "5d76501d-55a7-4671-f7aa-fdb75f8dae37"
   },
   "outputs": [
    {
     "data": {
      "image/png": "[encoded data removed]",
      "text/plain": [
       "<Figure size 432x288 with 1 Axes>"
      ]
     },
     "metadata": {
      "needs_background": "light"
     },
     "output_type": "display_data"
    }
   ],
   "source": [
    "plt.plot(history.history['accuracy'])\n",
    "plt.plot(history.history['val_accuracy'])\n",
    "plt.title('Train and Validation Accuracy per Epoch')\n",
    "plt.ylabel('Accuracy')\n",
    "plt.xlabel('Epoch')\n",
    "plt.legend(['Train', 'Validation'], loc='upper right')\n",
    "plt.show()"
   ]
  },
  {
   "cell_type": "markdown",
   "id": "lAy41ssjMIAQ",
   "metadata": {
    "id": "lAy41ssjMIAQ"
   },
   "source": [
    "<font size=5 color='navy'><b> Como lo previmos, el modelo empezaba a sobrentrenarse, no obstante, gracias a que seleccionamos la opción de guardar los pesos obtenidos con la mejor precisión, podemos asumir que tendrá una efectividad de alrededor del 84% con el conjunto de prueba."
   ]
  },
  {
   "cell_type": "markdown",
   "id": "CX-6QoPIotzz",
   "metadata": {
    "id": "CX-6QoPIotzz"
   },
   "source": [
    "<font size=6 color='steelblue'><center><b> Model Evaluation"
   ]
  },
  {
   "cell_type": "markdown",
   "id": "p4ba5pshpEwE",
   "metadata": {
    "id": "p4ba5pshpEwE"
   },
   "source": [
    "<font size=5 color='navy'><b> Ahora, realizamos la predicción para el conjunto de prueba y evaluaremos su efectividad mediante distintas métricas."
   ]
  },
  {
   "cell_type": "code",
   "execution_count": 45,
   "id": "qehv1JAQMHnY",
   "metadata": {
    "colab": {
     "base_uri": "https://localhost:8080/"
    },
    "id": "qehv1JAQMHnY",
    "outputId": "63d5051d-fe09-4000-fb1e-1299f3b0937c"
   },
   "outputs": [
    {
     "data": {
      "text/plain": [
       "array([2, 1, 1, 2, 0])"
      ]
     },
     "execution_count": 45,
     "metadata": {},
     "output_type": "execute_result"
    }
   ],
   "source": [
    "# Make a prediction for the test set\n",
    "from sklearn.metrics import accuracy_score, classification_report, confusion_matrix\n",
    "predictions = best_model.predict(X_test)\n",
    "y_hat = predictions.argmax(axis=-1)\n"
   ]
  },
  {
   "cell_type": "code",
   "execution_count": 53,
   "id": "ogFIj0SuAcRd",
   "metadata": {
    "colab": {
     "base_uri": "https://localhost:8080/"
    },
    "id": "ogFIj0SuAcRd",
    "outputId": "265d009d-7868-4144-aae4-ac049f262fe9"
   },
   "outputs": [
    {
     "name": "stdout",
     "output_type": "stream",
     "text": [
      "Accuracy of the model predictions:  0.82\n"
     ]
    }
   ],
   "source": [
    "# Determine the accuracy of the prediction\n",
    "acc_score = accuracy_score(y_test,y_hat)\n",
    "print(\"Accuracy of the model predictions: \", round(acc_score,2))"
   ]
  },
  {
   "cell_type": "code",
   "execution_count": 51,
   "id": "jXyA9mOkP-G8",
   "metadata": {
    "colab": {
     "base_uri": "https://localhost:8080/",
     "height": 542
    },
    "id": "jXyA9mOkP-G8",
    "outputId": "b0d6da28-350f-45e8-8be6-6a33caae0c7f"
   },
   "outputs": [
    {
     "data": {
      "image/png": "[encoded data removed]",
      "text/plain": [
       "<Figure size 864x576 with 1 Axes>"
      ]
     },
     "metadata": {
      "needs_background": "light"
     },
     "output_type": "display_data"
    }
   ],
   "source": [
    "# Build a confussion matrix to visualize more clearly the nature and effectiveness of the prediction\n",
    "cm = confusion_matrix(y_test, y_hat)\n",
    "fig, ax = plt.subplots()\n",
    "fig.set_size_inches(12, 8)\n",
    "sns.heatmap(cm, annot=True, fmt='d', ax=ax, cmap=plt.cm.Blues, cbar=False)\n",
    "ax.set(xticklabels=list(train_df.Sentiment.unique()), yticklabels=list(train_df.Sentiment.unique()), title=\"Confusion matrix\")\n",
    "ax.tick_params(axis='x', labelsize=16)\n",
    "ax.tick_params(axis='y', labelsize=16)\n",
    "ax.set_ylabel(\"True\", color=\"royalblue\", fontsize=35, fontweight=700)\n",
    "ax.set_xlabel(\"Prediction\", color=\"royalblue\", fontsize=35, fontweight=700)\n",
    "plt.yticks(rotation=0);"
   ]
  },
  {
   "cell_type": "code",
   "execution_count": 1,
   "id": "i6pCvqMxQ0r1",
   "metadata": {
    "colab": {
     "base_uri": "https://localhost:8080/",
     "height": 203
    },
    "id": "i6pCvqMxQ0r1",
    "outputId": "355ad05c-c910-4865-f920-1ae22d5c33d1"
   },
   "outputs": [
    {
     "ename": "NameError",
     "evalue": "ignored",
     "output_type": "error",
     "traceback": [
      "\u001b[0;31m---------------------------------------------------------------------------\u001b[0m",
      "\u001b[0;31mNameError\u001b[0m                                 Traceback (most recent call last)",
      "\u001b[0;32m<ipython-input-1-d1279fee8eb3>\u001b[0m in \u001b[0;36m<module>\u001b[0;34m()\u001b[0m\n\u001b[1;32m      1\u001b[0m \u001b[0;31m#report = classification_report(y_test, y_hat, target_names=list(train_df.Sentiment.unique()), output_dict=True)\u001b[0m\u001b[0;34m\u001b[0m\u001b[0;34m\u001b[0m\u001b[0;34m\u001b[0m\u001b[0m\n\u001b[0;32m----> 2\u001b[0;31m \u001b[0mdf_report\u001b[0m \u001b[0;34m=\u001b[0m \u001b[0mpd\u001b[0m\u001b[0;34m.\u001b[0m\u001b[0mDataFrame\u001b[0m\u001b[0;34m(\u001b[0m\u001b[0mreport\u001b[0m\u001b[0;34m)\u001b[0m\u001b[0;34m[\u001b[0m\u001b[0;34m[\u001b[0m\u001b[0;34m'Neutral'\u001b[0m\u001b[0;34m,\u001b[0m\u001b[0;34m'Negative'\u001b[0m\u001b[0;34m,\u001b[0m\u001b[0;34m'Positive'\u001b[0m\u001b[0;34m]\u001b[0m\u001b[0;34m]\u001b[0m\u001b[0;34m.\u001b[0m\u001b[0mapply\u001b[0m\u001b[0;34m(\u001b[0m\u001b[0;32mlambda\u001b[0m \u001b[0mx\u001b[0m\u001b[0;34m:\u001b[0m \u001b[0mround\u001b[0m\u001b[0;34m(\u001b[0m\u001b[0mx\u001b[0m\u001b[0;34m,\u001b[0m\u001b[0;36m3\u001b[0m\u001b[0;34m)\u001b[0m\u001b[0;34m)\u001b[0m\u001b[0;34m\u001b[0m\u001b[0;34m\u001b[0m\u001b[0m\n\u001b[0m\u001b[1;32m      3\u001b[0m \u001b[0mdf_report\u001b[0m\u001b[0;34m\u001b[0m\u001b[0;34m\u001b[0m\u001b[0m\n",
      "\u001b[0;31mNameError\u001b[0m: name 'pd' is not defined"
     ]
    }
   ],
   "source": [
    "report = classification_report(y_test, y_hat, target_names=list(train_df.Sentiment.unique()), output_dict=True)\n",
    "df_report = pd.DataFrame(report)[['Neutral','Negative','Positive']].apply(lambda x: round(x,3))\n",
    "df_report"
   ]
  },
  {
   "cell_type": "code",
   "execution_count": null,
   "id": "CS5OdwIziig5",
   "metadata": {
    "id": "CS5OdwIziig5"
   },
   "outputs": [],
   "source": []
  }
 ],
 "metadata": {
  "accelerator": "GPU",
  "colab": {
   "collapsed_sections": [],
   "name": "Proyecto Final.ipynb",
   "provenance": []
  },
  "kernelspec": {
   "display_name": "Python 3 (ipykernel)",
   "language": "python",
   "name": "python3"
  },
  "language_info": {
   "codemirror_mode": {
    "name": "ipython",
    "version": 3
   },
   "file_extension": ".py",
   "mimetype": "text/x-python",
   "name": "python",
   "nbconvert_exporter": "python",
   "pygments_lexer": "ipython3",
   "version": "3.8.12"
  }
 },
 "nbformat": 4,
 "nbformat_minor": 5
}
